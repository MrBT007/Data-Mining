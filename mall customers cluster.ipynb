{
 "cells": [
  {
   "cell_type": "code",
   "execution_count": 1,
   "metadata": {},
   "outputs": [],
   "source": [
    "import numpy as np\n",
    "import pandas as pd\n",
    "import matplotlib.pyplot as plt"
   ]
  },
  {
   "cell_type": "code",
   "execution_count": 2,
   "metadata": {},
   "outputs": [
    {
     "data": {
      "text/html": [
       "<div>\n",
       "<style scoped>\n",
       "    .dataframe tbody tr th:only-of-type {\n",
       "        vertical-align: middle;\n",
       "    }\n",
       "\n",
       "    .dataframe tbody tr th {\n",
       "        vertical-align: top;\n",
       "    }\n",
       "\n",
       "    .dataframe thead th {\n",
       "        text-align: right;\n",
       "    }\n",
       "</style>\n",
       "<table border=\"1\" class=\"dataframe\">\n",
       "  <thead>\n",
       "    <tr style=\"text-align: right;\">\n",
       "      <th></th>\n",
       "      <th>CustomerID</th>\n",
       "      <th>Genre</th>\n",
       "      <th>Age</th>\n",
       "      <th>Annual Income (k$)</th>\n",
       "      <th>Spending Score (1-100)</th>\n",
       "    </tr>\n",
       "  </thead>\n",
       "  <tbody>\n",
       "    <tr>\n",
       "      <th>0</th>\n",
       "      <td>1</td>\n",
       "      <td>Male</td>\n",
       "      <td>19</td>\n",
       "      <td>15</td>\n",
       "      <td>39</td>\n",
       "    </tr>\n",
       "    <tr>\n",
       "      <th>1</th>\n",
       "      <td>2</td>\n",
       "      <td>Male</td>\n",
       "      <td>21</td>\n",
       "      <td>15</td>\n",
       "      <td>81</td>\n",
       "    </tr>\n",
       "    <tr>\n",
       "      <th>2</th>\n",
       "      <td>3</td>\n",
       "      <td>Female</td>\n",
       "      <td>20</td>\n",
       "      <td>16</td>\n",
       "      <td>6</td>\n",
       "    </tr>\n",
       "    <tr>\n",
       "      <th>3</th>\n",
       "      <td>4</td>\n",
       "      <td>Female</td>\n",
       "      <td>23</td>\n",
       "      <td>16</td>\n",
       "      <td>77</td>\n",
       "    </tr>\n",
       "    <tr>\n",
       "      <th>4</th>\n",
       "      <td>5</td>\n",
       "      <td>Female</td>\n",
       "      <td>31</td>\n",
       "      <td>17</td>\n",
       "      <td>40</td>\n",
       "    </tr>\n",
       "    <tr>\n",
       "      <th>...</th>\n",
       "      <td>...</td>\n",
       "      <td>...</td>\n",
       "      <td>...</td>\n",
       "      <td>...</td>\n",
       "      <td>...</td>\n",
       "    </tr>\n",
       "    <tr>\n",
       "      <th>195</th>\n",
       "      <td>196</td>\n",
       "      <td>Female</td>\n",
       "      <td>35</td>\n",
       "      <td>120</td>\n",
       "      <td>79</td>\n",
       "    </tr>\n",
       "    <tr>\n",
       "      <th>196</th>\n",
       "      <td>197</td>\n",
       "      <td>Female</td>\n",
       "      <td>45</td>\n",
       "      <td>126</td>\n",
       "      <td>28</td>\n",
       "    </tr>\n",
       "    <tr>\n",
       "      <th>197</th>\n",
       "      <td>198</td>\n",
       "      <td>Male</td>\n",
       "      <td>32</td>\n",
       "      <td>126</td>\n",
       "      <td>74</td>\n",
       "    </tr>\n",
       "    <tr>\n",
       "      <th>198</th>\n",
       "      <td>199</td>\n",
       "      <td>Male</td>\n",
       "      <td>32</td>\n",
       "      <td>137</td>\n",
       "      <td>18</td>\n",
       "    </tr>\n",
       "    <tr>\n",
       "      <th>199</th>\n",
       "      <td>200</td>\n",
       "      <td>Male</td>\n",
       "      <td>30</td>\n",
       "      <td>137</td>\n",
       "      <td>83</td>\n",
       "    </tr>\n",
       "  </tbody>\n",
       "</table>\n",
       "<p>200 rows × 5 columns</p>\n",
       "</div>"
      ],
      "text/plain": [
       "     CustomerID   Genre  Age  Annual Income (k$)  Spending Score (1-100)\n",
       "0             1    Male   19                  15                      39\n",
       "1             2    Male   21                  15                      81\n",
       "2             3  Female   20                  16                       6\n",
       "3             4  Female   23                  16                      77\n",
       "4             5  Female   31                  17                      40\n",
       "..          ...     ...  ...                 ...                     ...\n",
       "195         196  Female   35                 120                      79\n",
       "196         197  Female   45                 126                      28\n",
       "197         198    Male   32                 126                      74\n",
       "198         199    Male   32                 137                      18\n",
       "199         200    Male   30                 137                      83\n",
       "\n",
       "[200 rows x 5 columns]"
      ]
     },
     "execution_count": 2,
     "metadata": {},
     "output_type": "execute_result"
    }
   ],
   "source": [
    "data = pd.read_csv(\"Mall_Customers_cluster.csv\")\n",
    "data"
   ]
  },
  {
   "cell_type": "code",
   "execution_count": 3,
   "metadata": {},
   "outputs": [
    {
     "data": {
      "text/html": [
       "<div>\n",
       "<style scoped>\n",
       "    .dataframe tbody tr th:only-of-type {\n",
       "        vertical-align: middle;\n",
       "    }\n",
       "\n",
       "    .dataframe tbody tr th {\n",
       "        vertical-align: top;\n",
       "    }\n",
       "\n",
       "    .dataframe thead th {\n",
       "        text-align: right;\n",
       "    }\n",
       "</style>\n",
       "<table border=\"1\" class=\"dataframe\">\n",
       "  <thead>\n",
       "    <tr style=\"text-align: right;\">\n",
       "      <th></th>\n",
       "      <th>Genre</th>\n",
       "      <th>Age</th>\n",
       "      <th>Annual Income (k$)</th>\n",
       "      <th>Spending Score (1-100)</th>\n",
       "    </tr>\n",
       "  </thead>\n",
       "  <tbody>\n",
       "    <tr>\n",
       "      <th>0</th>\n",
       "      <td>Male</td>\n",
       "      <td>19</td>\n",
       "      <td>15</td>\n",
       "      <td>39</td>\n",
       "    </tr>\n",
       "    <tr>\n",
       "      <th>1</th>\n",
       "      <td>Male</td>\n",
       "      <td>21</td>\n",
       "      <td>15</td>\n",
       "      <td>81</td>\n",
       "    </tr>\n",
       "    <tr>\n",
       "      <th>2</th>\n",
       "      <td>Female</td>\n",
       "      <td>20</td>\n",
       "      <td>16</td>\n",
       "      <td>6</td>\n",
       "    </tr>\n",
       "    <tr>\n",
       "      <th>3</th>\n",
       "      <td>Female</td>\n",
       "      <td>23</td>\n",
       "      <td>16</td>\n",
       "      <td>77</td>\n",
       "    </tr>\n",
       "    <tr>\n",
       "      <th>4</th>\n",
       "      <td>Female</td>\n",
       "      <td>31</td>\n",
       "      <td>17</td>\n",
       "      <td>40</td>\n",
       "    </tr>\n",
       "    <tr>\n",
       "      <th>...</th>\n",
       "      <td>...</td>\n",
       "      <td>...</td>\n",
       "      <td>...</td>\n",
       "      <td>...</td>\n",
       "    </tr>\n",
       "    <tr>\n",
       "      <th>195</th>\n",
       "      <td>Female</td>\n",
       "      <td>35</td>\n",
       "      <td>120</td>\n",
       "      <td>79</td>\n",
       "    </tr>\n",
       "    <tr>\n",
       "      <th>196</th>\n",
       "      <td>Female</td>\n",
       "      <td>45</td>\n",
       "      <td>126</td>\n",
       "      <td>28</td>\n",
       "    </tr>\n",
       "    <tr>\n",
       "      <th>197</th>\n",
       "      <td>Male</td>\n",
       "      <td>32</td>\n",
       "      <td>126</td>\n",
       "      <td>74</td>\n",
       "    </tr>\n",
       "    <tr>\n",
       "      <th>198</th>\n",
       "      <td>Male</td>\n",
       "      <td>32</td>\n",
       "      <td>137</td>\n",
       "      <td>18</td>\n",
       "    </tr>\n",
       "    <tr>\n",
       "      <th>199</th>\n",
       "      <td>Male</td>\n",
       "      <td>30</td>\n",
       "      <td>137</td>\n",
       "      <td>83</td>\n",
       "    </tr>\n",
       "  </tbody>\n",
       "</table>\n",
       "<p>200 rows × 4 columns</p>\n",
       "</div>"
      ],
      "text/plain": [
       "      Genre  Age  Annual Income (k$)  Spending Score (1-100)\n",
       "0      Male   19                  15                      39\n",
       "1      Male   21                  15                      81\n",
       "2    Female   20                  16                       6\n",
       "3    Female   23                  16                      77\n",
       "4    Female   31                  17                      40\n",
       "..      ...  ...                 ...                     ...\n",
       "195  Female   35                 120                      79\n",
       "196  Female   45                 126                      28\n",
       "197    Male   32                 126                      74\n",
       "198    Male   32                 137                      18\n",
       "199    Male   30                 137                      83\n",
       "\n",
       "[200 rows x 4 columns]"
      ]
     },
     "execution_count": 3,
     "metadata": {},
     "output_type": "execute_result"
    }
   ],
   "source": [
    "x = data.drop(['CustomerID'],axis=1)\n",
    "x"
   ]
  },
  {
   "cell_type": "code",
   "execution_count": 4,
   "metadata": {},
   "outputs": [],
   "source": [
    "from sklearn.preprocessing import LabelEncoder\n",
    "en = LabelEncoder()\n",
    "x['Genre'] = en.fit_transform(x['Genre'])"
   ]
  },
  {
   "cell_type": "code",
   "execution_count": 5,
   "metadata": {},
   "outputs": [
    {
     "data": {
      "text/html": [
       "<div>\n",
       "<style scoped>\n",
       "    .dataframe tbody tr th:only-of-type {\n",
       "        vertical-align: middle;\n",
       "    }\n",
       "\n",
       "    .dataframe tbody tr th {\n",
       "        vertical-align: top;\n",
       "    }\n",
       "\n",
       "    .dataframe thead th {\n",
       "        text-align: right;\n",
       "    }\n",
       "</style>\n",
       "<table border=\"1\" class=\"dataframe\">\n",
       "  <thead>\n",
       "    <tr style=\"text-align: right;\">\n",
       "      <th></th>\n",
       "      <th>Genre</th>\n",
       "      <th>Age</th>\n",
       "      <th>Annual Income (k$)</th>\n",
       "      <th>Spending Score (1-100)</th>\n",
       "    </tr>\n",
       "  </thead>\n",
       "  <tbody>\n",
       "    <tr>\n",
       "      <th>0</th>\n",
       "      <td>1</td>\n",
       "      <td>19</td>\n",
       "      <td>15</td>\n",
       "      <td>39</td>\n",
       "    </tr>\n",
       "    <tr>\n",
       "      <th>1</th>\n",
       "      <td>1</td>\n",
       "      <td>21</td>\n",
       "      <td>15</td>\n",
       "      <td>81</td>\n",
       "    </tr>\n",
       "    <tr>\n",
       "      <th>2</th>\n",
       "      <td>0</td>\n",
       "      <td>20</td>\n",
       "      <td>16</td>\n",
       "      <td>6</td>\n",
       "    </tr>\n",
       "    <tr>\n",
       "      <th>3</th>\n",
       "      <td>0</td>\n",
       "      <td>23</td>\n",
       "      <td>16</td>\n",
       "      <td>77</td>\n",
       "    </tr>\n",
       "    <tr>\n",
       "      <th>4</th>\n",
       "      <td>0</td>\n",
       "      <td>31</td>\n",
       "      <td>17</td>\n",
       "      <td>40</td>\n",
       "    </tr>\n",
       "    <tr>\n",
       "      <th>...</th>\n",
       "      <td>...</td>\n",
       "      <td>...</td>\n",
       "      <td>...</td>\n",
       "      <td>...</td>\n",
       "    </tr>\n",
       "    <tr>\n",
       "      <th>195</th>\n",
       "      <td>0</td>\n",
       "      <td>35</td>\n",
       "      <td>120</td>\n",
       "      <td>79</td>\n",
       "    </tr>\n",
       "    <tr>\n",
       "      <th>196</th>\n",
       "      <td>0</td>\n",
       "      <td>45</td>\n",
       "      <td>126</td>\n",
       "      <td>28</td>\n",
       "    </tr>\n",
       "    <tr>\n",
       "      <th>197</th>\n",
       "      <td>1</td>\n",
       "      <td>32</td>\n",
       "      <td>126</td>\n",
       "      <td>74</td>\n",
       "    </tr>\n",
       "    <tr>\n",
       "      <th>198</th>\n",
       "      <td>1</td>\n",
       "      <td>32</td>\n",
       "      <td>137</td>\n",
       "      <td>18</td>\n",
       "    </tr>\n",
       "    <tr>\n",
       "      <th>199</th>\n",
       "      <td>1</td>\n",
       "      <td>30</td>\n",
       "      <td>137</td>\n",
       "      <td>83</td>\n",
       "    </tr>\n",
       "  </tbody>\n",
       "</table>\n",
       "<p>200 rows × 4 columns</p>\n",
       "</div>"
      ],
      "text/plain": [
       "     Genre  Age  Annual Income (k$)  Spending Score (1-100)\n",
       "0        1   19                  15                      39\n",
       "1        1   21                  15                      81\n",
       "2        0   20                  16                       6\n",
       "3        0   23                  16                      77\n",
       "4        0   31                  17                      40\n",
       "..     ...  ...                 ...                     ...\n",
       "195      0   35                 120                      79\n",
       "196      0   45                 126                      28\n",
       "197      1   32                 126                      74\n",
       "198      1   32                 137                      18\n",
       "199      1   30                 137                      83\n",
       "\n",
       "[200 rows x 4 columns]"
      ]
     },
     "execution_count": 5,
     "metadata": {},
     "output_type": "execute_result"
    }
   ],
   "source": [
    "x"
   ]
  },
  {
   "cell_type": "code",
   "execution_count": 6,
   "metadata": {},
   "outputs": [],
   "source": [
    "#to find optimal number of cluster by elbow method\n",
    "from sklearn.cluster import KMeans"
   ]
  },
  {
   "cell_type": "code",
   "execution_count": 7,
   "metadata": {},
   "outputs": [
    {
     "name": "stderr",
     "output_type": "stream",
     "text": [
      "d:\\Anaconda\\lib\\site-packages\\sklearn\\cluster\\_kmeans.py:1334: UserWarning: KMeans is known to have a memory leak on Windows with MKL, when there are less chunks than available threads. You can avoid it by setting the environment variable OMP_NUM_THREADS=1.\n",
      "  warnings.warn(\n",
      "d:\\Anaconda\\lib\\site-packages\\sklearn\\cluster\\_kmeans.py:1334: UserWarning: KMeans is known to have a memory leak on Windows with MKL, when there are less chunks than available threads. You can avoid it by setting the environment variable OMP_NUM_THREADS=1.\n",
      "  warnings.warn(\n",
      "d:\\Anaconda\\lib\\site-packages\\sklearn\\cluster\\_kmeans.py:1334: UserWarning: KMeans is known to have a memory leak on Windows with MKL, when there are less chunks than available threads. You can avoid it by setting the environment variable OMP_NUM_THREADS=1.\n",
      "  warnings.warn(\n",
      "d:\\Anaconda\\lib\\site-packages\\sklearn\\cluster\\_kmeans.py:1334: UserWarning: KMeans is known to have a memory leak on Windows with MKL, when there are less chunks than available threads. You can avoid it by setting the environment variable OMP_NUM_THREADS=1.\n",
      "  warnings.warn(\n",
      "d:\\Anaconda\\lib\\site-packages\\sklearn\\cluster\\_kmeans.py:1334: UserWarning: KMeans is known to have a memory leak on Windows with MKL, when there are less chunks than available threads. You can avoid it by setting the environment variable OMP_NUM_THREADS=1.\n",
      "  warnings.warn(\n",
      "d:\\Anaconda\\lib\\site-packages\\sklearn\\cluster\\_kmeans.py:1334: UserWarning: KMeans is known to have a memory leak on Windows with MKL, when there are less chunks than available threads. You can avoid it by setting the environment variable OMP_NUM_THREADS=1.\n",
      "  warnings.warn(\n",
      "d:\\Anaconda\\lib\\site-packages\\sklearn\\cluster\\_kmeans.py:1334: UserWarning: KMeans is known to have a memory leak on Windows with MKL, when there are less chunks than available threads. You can avoid it by setting the environment variable OMP_NUM_THREADS=1.\n",
      "  warnings.warn(\n",
      "d:\\Anaconda\\lib\\site-packages\\sklearn\\cluster\\_kmeans.py:1334: UserWarning: KMeans is known to have a memory leak on Windows with MKL, when there are less chunks than available threads. You can avoid it by setting the environment variable OMP_NUM_THREADS=1.\n",
      "  warnings.warn(\n",
      "d:\\Anaconda\\lib\\site-packages\\sklearn\\cluster\\_kmeans.py:1334: UserWarning: KMeans is known to have a memory leak on Windows with MKL, when there are less chunks than available threads. You can avoid it by setting the environment variable OMP_NUM_THREADS=1.\n",
      "  warnings.warn(\n",
      "d:\\Anaconda\\lib\\site-packages\\sklearn\\cluster\\_kmeans.py:1334: UserWarning: KMeans is known to have a memory leak on Windows with MKL, when there are less chunks than available threads. You can avoid it by setting the environment variable OMP_NUM_THREADS=1.\n",
      "  warnings.warn(\n"
     ]
    },
    {
     "data": {
      "text/plain": [
       "Text(0, 0.5, 'WCC')"
      ]
     },
     "execution_count": 7,
     "metadata": {},
     "output_type": "execute_result"
    },
    {
     "data": {
      "image/png": "[encoded data removed]",
      "text/plain": [
       "<Figure size 432x288 with 1 Axes>"
      ]
     },
     "metadata": {
      "needs_background": "light"
     },
     "output_type": "display_data"
    }
   ],
   "source": [
    "n = []\n",
    "for i in range(1,11):\n",
    "    model = KMeans(n_clusters=i , random_state=0)\n",
    "    model.fit(x)\n",
    "    n.append(model.inertia_)\n",
    "plt.plot(range(1,11),n)\n",
    "plt.title(\"Elbow method\")\n",
    "plt.xlabel(\"Number of cluster\")\n",
    "plt.ylabel(\"WCC\")\n",
    "    "
   ]
  },
  {
   "cell_type": "code",
   "execution_count": 8,
   "metadata": {},
   "outputs": [],
   "source": [
    "from yellowbrick.cluster import SilhouetteVisualizer"
   ]
  },
  {
   "cell_type": "code",
   "execution_count": 9,
   "metadata": {},
   "outputs": [
    {
     "name": "stderr",
     "output_type": "stream",
     "text": [
      "d:\\Anaconda\\lib\\site-packages\\sklearn\\cluster\\_kmeans.py:1334: UserWarning: KMeans is known to have a memory leak on Windows with MKL, when there are less chunks than available threads. You can avoid it by setting the environment variable OMP_NUM_THREADS=1.\n",
      "  warnings.warn(\n",
      "d:\\Anaconda\\lib\\site-packages\\sklearn\\cluster\\_kmeans.py:1334: UserWarning: KMeans is known to have a memory leak on Windows with MKL, when there are less chunks than available threads. You can avoid it by setting the environment variable OMP_NUM_THREADS=1.\n",
      "  warnings.warn(\n",
      "d:\\Anaconda\\lib\\site-packages\\sklearn\\cluster\\_kmeans.py:1334: UserWarning: KMeans is known to have a memory leak on Windows with MKL, when there are less chunks than available threads. You can avoid it by setting the environment variable OMP_NUM_THREADS=1.\n",
      "  warnings.warn(\n",
      "d:\\Anaconda\\lib\\site-packages\\sklearn\\cluster\\_kmeans.py:1334: UserWarning: KMeans is known to have a memory leak on Windows with MKL, when there are less chunks than available threads. You can avoid it by setting the environment variable OMP_NUM_THREADS=1.\n",
      "  warnings.warn(\n",
      "d:\\Anaconda\\lib\\site-packages\\sklearn\\cluster\\_kmeans.py:1334: UserWarning: KMeans is known to have a memory leak on Windows with MKL, when there are less chunks than available threads. You can avoid it by setting the environment variable OMP_NUM_THREADS=1.\n",
      "  warnings.warn(\n",
      "d:\\Anaconda\\lib\\site-packages\\sklearn\\cluster\\_kmeans.py:1334: UserWarning: KMeans is known to have a memory leak on Windows with MKL, when there are less chunks than available threads. You can avoid it by setting the environment variable OMP_NUM_THREADS=1.\n",
      "  warnings.warn(\n",
      "d:\\Anaconda\\lib\\site-packages\\sklearn\\cluster\\_kmeans.py:1334: UserWarning: KMeans is known to have a memory leak on Windows with MKL, when there are less chunks than available threads. You can avoid it by setting the environment variable OMP_NUM_THREADS=1.\n",
      "  warnings.warn(\n",
      "d:\\Anaconda\\lib\\site-packages\\sklearn\\cluster\\_kmeans.py:1334: UserWarning: KMeans is known to have a memory leak on Windows with MKL, when there are less chunks than available threads. You can avoid it by setting the environment variable OMP_NUM_THREADS=1.\n",
      "  warnings.warn(\n",
      "d:\\Anaconda\\lib\\site-packages\\sklearn\\cluster\\_kmeans.py:1334: UserWarning: KMeans is known to have a memory leak on Windows with MKL, when there are less chunks than available threads. You can avoid it by setting the environment variable OMP_NUM_THREADS=1.\n",
      "  warnings.warn(\n"
     ]
    },
    {
     "data": {
      "image/png": "[encoded data removed]",
      "text/plain": [
       "<Figure size 1440x720 with 9 Axes>"
      ]
     },
     "metadata": {},
     "output_type": "display_data"
    }
   ],
   "source": [
    "m = 0\n",
    "fig,ax = plt.subplots(3,3,figsize = (20,10))\n",
    "ax = ax.ravel()\n",
    "for i in range(2,11):\n",
    "    model = KMeans(n_clusters=i,random_state=0)\n",
    "    vis = SilhouetteVisualizer(model,ax[m])\n",
    "    ax[m].set_title(f\"Cluster {i}\")\n",
    "    vis.fit(x)\n",
    "    m+=1"
   ]
  },
  {
   "cell_type": "code",
   "execution_count": 10,
   "metadata": {},
   "outputs": [
    {
     "name": "stderr",
     "output_type": "stream",
     "text": [
      "d:\\Anaconda\\lib\\site-packages\\sklearn\\cluster\\_kmeans.py:1334: UserWarning: KMeans is known to have a memory leak on Windows with MKL, when there are less chunks than available threads. You can avoid it by setting the environment variable OMP_NUM_THREADS=1.\n",
      "  warnings.warn(\n"
     ]
    }
   ],
   "source": [
    "model = KMeans(n_clusters=6,random_state=0)\n",
    "y = model.fit_predict(x)"
   ]
  },
  {
   "cell_type": "code",
   "execution_count": 11,
   "metadata": {},
   "outputs": [
    {
     "data": {
      "text/plain": [
       "0.45205475380756527"
      ]
     },
     "execution_count": 11,
     "metadata": {},
     "output_type": "execute_result"
    }
   ],
   "source": [
    "from sklearn.metrics import silhouette_score\n",
    "silhouette_score(x,y)"
   ]
  },
  {
   "cell_type": "code",
   "execution_count": 12,
   "metadata": {},
   "outputs": [],
   "source": [
    "#agglomerative Clustering\n",
    "from sklearn.cluster import AgglomerativeClustering"
   ]
  },
  {
   "cell_type": "code",
   "execution_count": 13,
   "metadata": {},
   "outputs": [],
   "source": [
    "import scipy.cluster.hierarchy as sch "
   ]
  },
  {
   "cell_type": "code",
   "execution_count": 14,
   "metadata": {},
   "outputs": [
    {
     "data": {
      "text/plain": [
       "Text(0, 0.5, 'Euclidean Dist')"
      ]
     },
     "execution_count": 14,
     "metadata": {},
     "output_type": "execute_result"
    },
    {
     "data": {
      "image/png": "[encoded data removed]",
      "text/plain": [
       "<Figure size 576x396 with 1 Axes>"
      ]
     },
     "metadata": {},
     "output_type": "display_data"
    }
   ],
   "source": [
    "dendogram = sch.dendrogram(sch.linkage(x,method='ward'))\n",
    "plt.xlabel('No of clusters')\n",
    "plt.ylabel('Euclidean Dist')"
   ]
  },
  {
   "cell_type": "code",
   "execution_count": 15,
   "metadata": {},
   "outputs": [
    {
     "data": {
      "text/plain": [
       "0.4102091359195185"
      ]
     },
     "execution_count": 15,
     "metadata": {},
     "output_type": "execute_result"
    }
   ],
   "source": [
    "model = AgglomerativeClustering(n_clusters=4)\n",
    "y = model.fit_predict(x)\n",
    "silhouette_score(x,y)"
   ]
  },
  {
   "cell_type": "code",
   "execution_count": 16,
   "metadata": {},
   "outputs": [
    {
     "data": {
      "text/plain": [
       "0.4428008535928764"
      ]
     },
     "execution_count": 16,
     "metadata": {},
     "output_type": "execute_result"
    }
   ],
   "source": [
    "model = AgglomerativeClustering(n_clusters=6)\n",
    "y = model.fit_predict(x)\n",
    "silhouette_score(x,y)"
   ]
  },
  {
   "cell_type": "code",
   "execution_count": 17,
   "metadata": {},
   "outputs": [
    {
     "data": {
      "text/html": [
       "<div>\n",
       "<style scoped>\n",
       "    .dataframe tbody tr th:only-of-type {\n",
       "        vertical-align: middle;\n",
       "    }\n",
       "\n",
       "    .dataframe tbody tr th {\n",
       "        vertical-align: top;\n",
       "    }\n",
       "\n",
       "    .dataframe thead th {\n",
       "        text-align: right;\n",
       "    }\n",
       "</style>\n",
       "<table border=\"1\" class=\"dataframe\">\n",
       "  <thead>\n",
       "    <tr style=\"text-align: right;\">\n",
       "      <th></th>\n",
       "      <th>CustomerID</th>\n",
       "      <th>Genre</th>\n",
       "      <th>Age</th>\n",
       "      <th>Annual Income (k$)</th>\n",
       "      <th>Spending Score (1-100)</th>\n",
       "    </tr>\n",
       "  </thead>\n",
       "  <tbody>\n",
       "    <tr>\n",
       "      <th>0</th>\n",
       "      <td>1</td>\n",
       "      <td>Male</td>\n",
       "      <td>19</td>\n",
       "      <td>15</td>\n",
       "      <td>39</td>\n",
       "    </tr>\n",
       "    <tr>\n",
       "      <th>1</th>\n",
       "      <td>2</td>\n",
       "      <td>Male</td>\n",
       "      <td>21</td>\n",
       "      <td>15</td>\n",
       "      <td>81</td>\n",
       "    </tr>\n",
       "    <tr>\n",
       "      <th>2</th>\n",
       "      <td>3</td>\n",
       "      <td>Female</td>\n",
       "      <td>20</td>\n",
       "      <td>16</td>\n",
       "      <td>6</td>\n",
       "    </tr>\n",
       "    <tr>\n",
       "      <th>3</th>\n",
       "      <td>4</td>\n",
       "      <td>Female</td>\n",
       "      <td>23</td>\n",
       "      <td>16</td>\n",
       "      <td>77</td>\n",
       "    </tr>\n",
       "    <tr>\n",
       "      <th>4</th>\n",
       "      <td>5</td>\n",
       "      <td>Female</td>\n",
       "      <td>31</td>\n",
       "      <td>17</td>\n",
       "      <td>40</td>\n",
       "    </tr>\n",
       "  </tbody>\n",
       "</table>\n",
       "</div>"
      ],
      "text/plain": [
       "   CustomerID   Genre  Age  Annual Income (k$)  Spending Score (1-100)\n",
       "0           1    Male   19                  15                      39\n",
       "1           2    Male   21                  15                      81\n",
       "2           3  Female   20                  16                       6\n",
       "3           4  Female   23                  16                      77\n",
       "4           5  Female   31                  17                      40"
      ]
     },
     "execution_count": 17,
     "metadata": {},
     "output_type": "execute_result"
    }
   ],
   "source": [
    "#DBSCAN\n",
    "\n",
    "data.head()"
   ]
  },
  {
   "cell_type": "code",
   "execution_count": 20,
   "metadata": {},
   "outputs": [
    {
     "data": {
      "text/html": [
       "<div>\n",
       "<style scoped>\n",
       "    .dataframe tbody tr th:only-of-type {\n",
       "        vertical-align: middle;\n",
       "    }\n",
       "\n",
       "    .dataframe tbody tr th {\n",
       "        vertical-align: top;\n",
       "    }\n",
       "\n",
       "    .dataframe thead th {\n",
       "        text-align: right;\n",
       "    }\n",
       "</style>\n",
       "<table border=\"1\" class=\"dataframe\">\n",
       "  <thead>\n",
       "    <tr style=\"text-align: right;\">\n",
       "      <th></th>\n",
       "      <th>Annual Income (k$)</th>\n",
       "      <th>Spending Score (1-100)</th>\n",
       "    </tr>\n",
       "  </thead>\n",
       "  <tbody>\n",
       "    <tr>\n",
       "      <th>0</th>\n",
       "      <td>15</td>\n",
       "      <td>39</td>\n",
       "    </tr>\n",
       "    <tr>\n",
       "      <th>1</th>\n",
       "      <td>15</td>\n",
       "      <td>81</td>\n",
       "    </tr>\n",
       "    <tr>\n",
       "      <th>2</th>\n",
       "      <td>16</td>\n",
       "      <td>6</td>\n",
       "    </tr>\n",
       "    <tr>\n",
       "      <th>3</th>\n",
       "      <td>16</td>\n",
       "      <td>77</td>\n",
       "    </tr>\n",
       "    <tr>\n",
       "      <th>4</th>\n",
       "      <td>17</td>\n",
       "      <td>40</td>\n",
       "    </tr>\n",
       "    <tr>\n",
       "      <th>...</th>\n",
       "      <td>...</td>\n",
       "      <td>...</td>\n",
       "    </tr>\n",
       "    <tr>\n",
       "      <th>195</th>\n",
       "      <td>120</td>\n",
       "      <td>79</td>\n",
       "    </tr>\n",
       "    <tr>\n",
       "      <th>196</th>\n",
       "      <td>126</td>\n",
       "      <td>28</td>\n",
       "    </tr>\n",
       "    <tr>\n",
       "      <th>197</th>\n",
       "      <td>126</td>\n",
       "      <td>74</td>\n",
       "    </tr>\n",
       "    <tr>\n",
       "      <th>198</th>\n",
       "      <td>137</td>\n",
       "      <td>18</td>\n",
       "    </tr>\n",
       "    <tr>\n",
       "      <th>199</th>\n",
       "      <td>137</td>\n",
       "      <td>83</td>\n",
       "    </tr>\n",
       "  </tbody>\n",
       "</table>\n",
       "<p>200 rows × 2 columns</p>\n",
       "</div>"
      ],
      "text/plain": [
       "     Annual Income (k$)  Spending Score (1-100)\n",
       "0                    15                      39\n",
       "1                    15                      81\n",
       "2                    16                       6\n",
       "3                    16                      77\n",
       "4                    17                      40\n",
       "..                  ...                     ...\n",
       "195                 120                      79\n",
       "196                 126                      28\n",
       "197                 126                      74\n",
       "198                 137                      18\n",
       "199                 137                      83\n",
       "\n",
       "[200 rows x 2 columns]"
      ]
     },
     "execution_count": 20,
     "metadata": {},
     "output_type": "execute_result"
    }
   ],
   "source": [
    "X = data.iloc[:,[3,4]]\n",
    "X"
   ]
  },
  {
   "cell_type": "code",
   "execution_count": 21,
   "metadata": {},
   "outputs": [],
   "source": [
    "from sklearn.cluster import DBSCAN"
   ]
  },
  {
   "cell_type": "code",
   "execution_count": 26,
   "metadata": {},
   "outputs": [
    {
     "data": {
      "text/plain": [
       "array([-1,  0, -1,  0, -1,  0, -1, -1, -1,  0, -1, -1, -1,  0, -1,  0, -1,\n",
       "       -1, -1, -1, -1, -1, -1, -1, -1, -1, -1, -1, -1, -1, -1, -1, -1, -1,\n",
       "       -1, -1, -1, -1, -1, -1, -1, -1, -1,  1, -1,  1,  1,  1,  1,  1,  1,\n",
       "        1,  1,  1,  1,  1,  1,  1,  1,  1,  1,  1,  1,  1,  1,  1,  1,  1,\n",
       "        1,  1,  1,  1,  1,  1,  1,  1,  1,  1,  1,  1,  1,  1,  1,  1,  1,\n",
       "        1,  1,  1,  1,  1,  1,  1,  1,  1,  1,  1,  1,  1,  1,  1,  1,  1,\n",
       "        1,  1,  1,  1,  1,  1,  1,  1,  1,  1,  1,  1,  1,  1,  1,  1,  1,\n",
       "        1,  1,  1,  1,  4, -1,  2, -1,  4,  3,  2,  3,  2, -1,  2,  3,  4,\n",
       "        3,  2,  3,  2,  3,  4, -1,  4,  3,  4, -1,  2,  5,  4,  5,  4,  5,\n",
       "        2,  5,  4,  3,  2,  3,  2, -1,  4,  3,  4, -1, -1, -1, -1, -1, -1,\n",
       "        6, -1,  6, -1,  6, -1,  6, -1, -1, -1, -1, -1, -1, -1, -1, -1, -1,\n",
       "       -1, -1, -1, -1, -1, -1, -1, -1, -1, -1, -1, -1, -1], dtype=int64)"
      ]
     },
     "execution_count": 26,
     "metadata": {},
     "output_type": "execute_result"
    }
   ],
   "source": [
    "model = DBSCAN(eps=5,min_samples=4)\n",
    "Y = model.fit_predict(X)\n",
    "Y"
   ]
  },
  {
   "cell_type": "code",
   "execution_count": 27,
   "metadata": {},
   "outputs": [
    {
     "data": {
      "text/plain": [
       "array([-1,  0,  1,  2,  3,  4,  5,  6], dtype=int64)"
      ]
     },
     "execution_count": 27,
     "metadata": {},
     "output_type": "execute_result"
    }
   ],
   "source": [
    "# -1 represents noise for eps = 5 and min_samples = 4\n",
    "\n",
    "np.unique(Y)"
   ]
  },
  {
   "cell_type": "code",
   "execution_count": 28,
   "metadata": {},
   "outputs": [
    {
     "data": {
      "text/plain": [
       "0.13799244650401032"
      ]
     },
     "execution_count": 28,
     "metadata": {},
     "output_type": "execute_result"
    }
   ],
   "source": [
    "silhouette_score(X,Y)"
   ]
  },
  {
   "cell_type": "code",
   "execution_count": 29,
   "metadata": {},
   "outputs": [
    {
     "data": {
      "text/plain": [
       "0.39889488555584734"
      ]
     },
     "execution_count": 29,
     "metadata": {},
     "output_type": "execute_result"
    }
   ],
   "source": [
    "model = DBSCAN(eps=10,min_samples=4)\n",
    "Y = model.fit_predict(X)\n",
    "silhouette_score(X,Y)"
   ]
  },
  {
   "cell_type": "code",
   "execution_count": 30,
   "metadata": {},
   "outputs": [
    {
     "data": {
      "text/plain": [
       "0.3455936875612336"
      ]
     },
     "execution_count": 30,
     "metadata": {},
     "output_type": "execute_result"
    }
   ],
   "source": [
    "model = DBSCAN(eps=12,min_samples=4)\n",
    "Y = model.fit_predict(X)\n",
    "silhouette_score(X,Y)"
   ]
  },
  {
   "cell_type": "code",
   "execution_count": 32,
   "metadata": {},
   "outputs": [],
   "source": [
    "from sklearn.neighbors import NearestNeighbors\n",
    "model = NearestNeighbors(n_neighbors=4).fit(X)\n",
    "dis,ind = model.kneighbors(X)"
   ]
  },
  {
   "cell_type": "code",
   "execution_count": 33,
   "metadata": {},
   "outputs": [
    {
     "data": {
      "text/plain": [
       "array([[ 0.        ,  2.23606798,  7.21110255,  9.8488578 ],\n",
       "       [ 0.        ,  4.12310563,  5.38516481,  5.38516481],\n",
       "       [ 0.        ,  2.        ,  4.24264069,  8.06225775],\n",
       "       [ 0.        ,  1.41421356,  4.        ,  4.12310563],\n",
       "       [ 0.        ,  2.23606798,  6.40312424,  8.60232527],\n",
       "       [ 0.        ,  1.41421356,  3.16227766,  4.24264069],\n",
       "       [ 0.        ,  2.        ,  3.16227766,  7.07106781],\n",
       "       [ 0.        ,  5.09901951,  6.40312424, 13.03840481],\n",
       "       [ 0.        ,  3.16227766,  4.24264069,  6.32455532],\n",
       "       [ 0.        ,  4.47213595,  5.09901951,  5.09901951],\n",
       "       [ 0.        ,  1.41421356,  1.41421356,  8.06225775],\n",
       "       [ 0.        ,  4.12310563,  5.09901951, 15.62049935],\n",
       "       [ 0.        ,  1.41421356,  2.        ,  8.06225775],\n",
       "       [ 0.        ,  2.        ,  3.16227766,  4.        ],\n",
       "       [ 0.        ,  1.41421356,  2.        ,  7.28010989],\n",
       "       [ 0.        ,  2.        ,  4.24264069,  4.47213595],\n",
       "       [ 0.        ,  3.        ,  6.32455532,  6.40312424],\n",
       "       [ 0.        ,  6.32455532,  7.61577311,  8.06225775],\n",
       "       [ 0.        ,  5.83095189,  6.08276253,  6.32455532],\n",
       "       [ 0.        ,  4.12310563,  6.40312424, 11.66190379],\n",
       "       [ 0.        ,  3.        ,  5.        ,  6.08276253],\n",
       "       [ 0.        ,  1.        ,  5.09901951,  5.65685425],\n",
       "       [ 0.        ,  5.09901951,  6.32455532,  7.07106781],\n",
       "       [ 0.        ,  1.        ,  5.        ,  6.08276253],\n",
       "       [ 0.        ,  5.        ,  6.70820393,  8.06225775],\n",
       "       [ 0.        ,  5.09901951,  5.09901951,  8.54400375],\n",
       "       [ 0.        ,  1.41421356,  5.        ,  5.83095189],\n",
       "       [ 0.        ,  8.60232527, 11.        , 11.70469991],\n",
       "       [ 0.        ,  1.41421356,  6.32455532,  6.40312424],\n",
       "       [ 0.        ,  5.09901951,  6.40312424,  7.21110255],\n",
       "       [ 0.        ,  3.        ,  5.09901951, 10.19803903],\n",
       "       [ 0.        ,  4.        ,  5.        ,  6.        ],\n",
       "       [ 0.        ,  3.        ,  8.06225775, 10.        ],\n",
       "       [ 0.        ,  5.        ,  6.40312424, 11.        ],\n",
       "       [ 0.        ,  3.16227766,  5.        , 10.        ],\n",
       "       [ 0.        ,  5.09901951,  7.21110255,  7.21110255],\n",
       "       [ 0.        ,  3.16227766,  6.70820393,  9.48683298],\n",
       "       [ 0.        ,  3.60555128,  4.        ,  8.06225775],\n",
       "       [ 0.        ,  2.82842712,  9.05538514,  9.43398113],\n",
       "       [ 0.        ,  3.60555128,  7.21110255,  7.28010989],\n",
       "       [ 0.        ,  1.41421356,  7.07106781,  7.28010989],\n",
       "       [ 0.        ,  5.        , 10.29563014, 12.08304597],\n",
       "       [ 0.        ,  1.41421356,  6.08276253,  6.08276253],\n",
       "       [ 0.        ,  3.16227766,  4.        ,  4.12310563],\n",
       "       [ 0.        ,  2.82842712,  7.07106781,  8.        ],\n",
       "       [ 0.        ,  4.        ,  5.83095189,  6.40312424],\n",
       "       [ 0.        ,  3.16227766,  3.60555128,  5.38516481],\n",
       "       [ 0.        ,  3.60555128,  4.12310563,  5.        ],\n",
       "       [ 0.        ,  0.        ,  3.16227766,  4.24264069],\n",
       "       [ 0.        ,  0.        ,  3.16227766,  4.24264069],\n",
       "       [ 0.        ,  2.23606798,  2.82842712,  3.60555128],\n",
       "       [ 0.        ,  1.        ,  3.16227766,  5.09901951],\n",
       "       [ 0.        ,  2.23606798,  3.16227766,  3.16227766],\n",
       "       [ 0.        ,  1.        ,  4.12310563,  4.12310563],\n",
       "       [ 0.        ,  1.41421356,  3.16227766,  3.60555128],\n",
       "       [ 0.        ,  3.16227766,  3.16227766,  4.        ],\n",
       "       [ 0.        ,  2.23606798,  2.82842712,  3.60555128],\n",
       "       [ 0.        ,  1.41421356,  2.        ,  4.        ],\n",
       "       [ 0.        ,  1.41421356,  2.        ,  2.23606798],\n",
       "       [ 0.        ,  2.        ,  2.23606798,  2.82842712],\n",
       "       [ 0.        ,  1.        ,  3.16227766,  3.16227766],\n",
       "       [ 0.        ,  1.        ,  3.        ,  3.16227766],\n",
       "       [ 0.        ,  1.41421356,  1.41421356,  2.23606798],\n",
       "       [ 0.        ,  1.        ,  1.        ,  3.16227766],\n",
       "       [ 0.        ,  1.        ,  1.41421356,  2.        ],\n",
       "       [ 0.        ,  0.        ,  1.        ,  3.60555128],\n",
       "       [ 0.        ,  1.        ,  2.        ,  2.23606798],\n",
       "       [ 0.        ,  1.        ,  2.        ,  2.23606798],\n",
       "       [ 0.        ,  0.        ,  1.        ,  3.60555128],\n",
       "       [ 0.        ,  1.        ,  2.23606798,  2.82842712],\n",
       "       [ 0.        ,  1.41421356,  3.        ,  3.16227766],\n",
       "       [ 0.        ,  5.        ,  5.        ,  5.09901951],\n",
       "       [ 0.        ,  2.23606798,  2.23606798,  2.82842712],\n",
       "       [ 0.        ,  1.41421356,  3.60555128,  3.60555128],\n",
       "       [ 0.        ,  1.        ,  1.        ,  3.        ],\n",
       "       [ 0.        ,  1.        ,  1.        ,  2.        ],\n",
       "       [ 0.        ,  1.        ,  1.        ,  2.        ],\n",
       "       [ 0.        ,  1.        ,  2.        ,  3.        ],\n",
       "       [ 0.        ,  1.        ,  1.        ,  2.        ],\n",
       "       [ 0.        ,  1.        ,  2.        ,  4.        ],\n",
       "       [ 0.        ,  1.        ,  2.        ,  3.        ],\n",
       "       [ 0.        ,  1.        ,  2.        ,  2.        ],\n",
       "       [ 0.        ,  1.        ,  3.        ,  5.        ],\n",
       "       [ 0.        ,  2.        ,  2.        ,  3.        ],\n",
       "       [ 0.        ,  2.        ,  3.        ,  3.16227766],\n",
       "       [ 0.        ,  1.        ,  2.        ,  2.        ],\n",
       "       [ 0.        ,  2.23606798,  3.        ,  3.16227766],\n",
       "       [ 0.        ,  2.        ,  3.        ,  3.        ],\n",
       "       [ 0.        ,  2.23606798,  4.12310563,  5.        ],\n",
       "       [ 0.        ,  2.23606798,  3.60555128,  4.        ],\n",
       "       [ 0.        ,  2.        ,  3.        ,  3.16227766],\n",
       "       [ 0.        ,  1.41421356,  1.41421356,  2.23606798],\n",
       "       [ 0.        ,  1.        ,  1.        ,  2.        ],\n",
       "       [ 0.        ,  1.41421356,  2.        ,  2.23606798],\n",
       "       [ 0.        ,  1.        ,  1.41421356,  2.        ],\n",
       "       [ 0.        ,  2.        ,  3.        ,  3.        ],\n",
       "       [ 0.        ,  2.        ,  2.23606798,  2.23606798],\n",
       "       [ 0.        ,  1.        ,  1.41421356,  2.        ],\n",
       "       [ 0.        ,  1.        ,  1.        ,  1.41421356],\n",
       "       [ 0.        ,  1.        ,  1.41421356,  1.41421356],\n",
       "       [ 0.        ,  1.        ,  1.41421356,  2.23606798],\n",
       "       [ 0.        ,  1.        ,  1.41421356,  2.23606798],\n",
       "       [ 0.        ,  3.        ,  3.        ,  4.        ],\n",
       "       [ 0.        ,  1.        ,  1.41421356,  3.        ],\n",
       "       [ 0.        ,  1.        ,  2.23606798,  3.        ],\n",
       "       [ 0.        ,  1.        ,  1.        ,  1.41421356],\n",
       "       [ 0.        ,  2.        ,  2.        ,  2.        ],\n",
       "       [ 0.        ,  1.        ,  2.        ,  2.23606798],\n",
       "       [ 0.        ,  1.41421356,  1.41421356,  2.        ],\n",
       "       [ 0.        ,  1.        ,  2.        ,  2.        ],\n",
       "       [ 0.        ,  2.        ,  2.        ,  2.82842712],\n",
       "       [ 0.        ,  1.41421356,  2.        ,  2.23606798],\n",
       "       [ 0.        ,  1.41421356,  1.41421356,  2.        ],\n",
       "       [ 0.        ,  1.        ,  2.23606798,  2.23606798],\n",
       "       [ 0.        ,  2.        ,  2.        ,  2.23606798],\n",
       "       [ 0.        ,  2.        ,  2.        ,  2.82842712],\n",
       "       [ 0.        ,  1.41421356,  2.        ,  2.        ],\n",
       "       [ 0.        ,  2.82842712,  3.        ,  3.60555128],\n",
       "       [ 0.        ,  2.        ,  3.        ,  3.16227766],\n",
       "       [ 0.        ,  1.        ,  2.23606798,  2.82842712],\n",
       "       [ 0.        ,  1.        ,  2.82842712,  3.60555128],\n",
       "       [ 0.        ,  3.        ,  3.60555128,  3.60555128],\n",
       "       [ 0.        ,  2.23606798,  2.82842712,  4.12310563],\n",
       "       [ 0.        ,  4.47213595,  5.        ,  6.32455532],\n",
       "       [ 0.        ,  5.38516481,  6.08276253,  9.89949494],\n",
       "       [ 0.        ,  2.23606798,  2.23606798,  5.        ],\n",
       "       [ 0.        ,  1.41421356,  6.08276253,  6.08276253],\n",
       "       [ 0.        ,  4.47213595,  4.47213595,  6.32455532],\n",
       "       [ 0.        ,  2.        ,  3.16227766,  4.47213595],\n",
       "       [ 0.        ,  0.        ,  2.23606798,  2.82842712],\n",
       "       [ 0.        ,  2.        ,  2.82842712,  3.16227766],\n",
       "       [ 0.        ,  0.        ,  2.23606798,  2.82842712],\n",
       "       [ 0.        ,  1.41421356,  5.38516481,  5.38516481],\n",
       "       [ 0.        ,  2.23606798,  2.23606798,  4.12310563],\n",
       "       [ 0.        ,  2.        ,  2.        ,  4.47213595],\n",
       "       [ 0.        ,  3.16227766,  5.        ,  5.        ],\n",
       "       [ 0.        ,  2.        ,  2.82842712,  2.82842712],\n",
       "       [ 0.        ,  1.41421356,  2.23606798,  2.82842712],\n",
       "       [ 0.        ,  3.16227766,  3.16227766,  3.16227766],\n",
       "       [ 0.        ,  1.41421356,  2.23606798,  3.60555128],\n",
       "       [ 0.        ,  2.        ,  2.82842712,  5.        ],\n",
       "       [ 0.        ,  4.24264069,  4.47213595,  4.47213595],\n",
       "       [ 0.        ,  4.12310563,  5.83095189,  7.07106781],\n",
       "       [ 0.        ,  2.23606798,  2.82842712,  3.16227766],\n",
       "       [ 0.        ,  3.60555128,  4.12310563,  5.09901951],\n",
       "       [ 0.        ,  4.47213595,  5.65685425,  6.32455532],\n",
       "       [ 0.        ,  2.23606798,  4.12310563,  5.38516481],\n",
       "       [ 0.        ,  1.41421356,  2.23606798,  3.60555128],\n",
       "       [ 0.        ,  2.        ,  5.        ,  6.        ],\n",
       "       [ 0.        ,  1.        ,  2.        ,  3.60555128],\n",
       "       [ 0.        ,  1.        ,  3.        ,  5.        ],\n",
       "       [ 0.        ,  1.        ,  2.        ,  2.23606798],\n",
       "       [ 0.        ,  2.        ,  3.        ,  4.        ],\n",
       "       [ 0.        ,  2.        ,  2.23606798,  3.        ],\n",
       "       [ 0.        ,  1.        ,  4.        ,  4.12310563],\n",
       "       [ 0.        ,  1.        ,  1.        ,  2.82842712],\n",
       "       [ 0.        ,  0.        ,  5.        ,  5.        ],\n",
       "       [ 0.        ,  2.        ,  4.12310563,  5.        ],\n",
       "       [ 0.        ,  0.        ,  5.        ,  5.        ],\n",
       "       [ 0.        ,  1.41421356,  3.        ,  4.12310563],\n",
       "       [ 0.        ,  2.23606798,  5.83095189,  7.07106781],\n",
       "       [ 0.        ,  5.        ,  5.09901951,  5.09901951],\n",
       "       [ 0.        ,  5.        ,  5.        ,  6.        ],\n",
       "       [ 0.        ,  4.24264069,  5.        ,  5.38516481],\n",
       "       [ 0.        ,  2.23606798,  6.08276253,  8.06225775],\n",
       "       [ 0.        ,  2.        ,  6.70820393,  7.07106781],\n",
       "       [ 0.        ,  5.38516481,  6.08276253,  7.07106781],\n",
       "       [ 0.        ,  3.16227766,  5.38516481,  8.60232527],\n",
       "       [ 0.        ,  2.23606798,  7.07106781, 10.29563014],\n",
       "       [ 0.        ,  6.08276253, 12.        , 12.16552506],\n",
       "       [ 0.        ,  1.        ,  2.23606798,  3.        ],\n",
       "       [ 0.        ,  2.        ,  6.08276253,  9.05538514],\n",
       "       [ 0.        ,  3.        ,  3.16227766,  5.09901951],\n",
       "       [ 0.        ,  3.16227766,  6.08276253,  6.08276253],\n",
       "       [ 0.        ,  1.        ,  2.        ,  3.16227766],\n",
       "       [ 0.        ,  6.08276253,  6.40312424,  9.        ],\n",
       "       [ 0.        ,  2.        ,  2.23606798,  5.09901951],\n",
       "       [ 0.        ,  6.08276253,  6.08276253,  6.70820393],\n",
       "       [ 0.        ,  5.09901951,  5.09901951,  5.09901951],\n",
       "       [ 0.        ,  5.38516481,  5.65685425,  6.32455532],\n",
       "       [ 0.        ,  7.28010989,  8.94427191, 10.81665383],\n",
       "       [ 0.        ,  2.23606798,  5.65685425,  6.08276253],\n",
       "       [ 0.        ,  5.09901951,  5.38516481,  9.43398113],\n",
       "       [ 0.        ,  2.23606798,  5.38516481,  5.83095189],\n",
       "       [ 0.        ,  7.28010989, 15.13274595, 16.4924225 ],\n",
       "       [ 0.        ,  9.05538514,  9.21954446, 11.18033989],\n",
       "       [ 0.        ,  2.23606798,  7.28010989,  8.94427191],\n",
       "       [ 0.        ,  2.23606798, 13.03840481, 14.86606875],\n",
       "       [ 0.        ,  5.38516481,  6.        ,  7.28010989],\n",
       "       [ 0.        ,  5.83095189,  6.08276253, 11.18033989],\n",
       "       [ 0.        ,  2.23606798,  6.        ,  9.43398113],\n",
       "       [ 0.        ,  2.23606798, 15.        , 16.        ],\n",
       "       [ 0.        , 10.63014581, 13.45362405, 16.55294536],\n",
       "       [ 0.        , 11.66190379, 13.89244399, 15.23154621],\n",
       "       [ 0.        , 10.63014581, 13.41640786, 17.02938637],\n",
       "       [ 0.        ,  7.81024968, 13.89244399, 17.4642492 ],\n",
       "       [ 0.        , 13.41640786, 14.86606875, 23.53720459],\n",
       "       [ 0.        ,  7.81024968, 14.2126704 , 21.40093456],\n",
       "       [ 0.        , 14.86606875, 17.11724277, 26.        ],\n",
       "       [ 0.        , 14.2126704 , 17.4642492 , 25.29822128]])"
      ]
     },
     "execution_count": 33,
     "metadata": {},
     "output_type": "execute_result"
    }
   ],
   "source": [
    "dis"
   ]
  },
  {
   "cell_type": "code",
   "execution_count": 34,
   "metadata": {},
   "outputs": [
    {
     "data": {
      "text/plain": [
       "array([[ 0.        ,  0.        ,  1.        ,  1.41421356],\n",
       "       [ 0.        ,  0.        ,  1.        ,  1.41421356],\n",
       "       [ 0.        ,  0.        ,  1.        ,  1.41421356],\n",
       "       [ 0.        ,  0.        ,  1.        ,  2.        ],\n",
       "       [ 0.        ,  0.        ,  1.        ,  2.        ],\n",
       "       [ 0.        ,  0.        ,  1.        ,  2.        ],\n",
       "       [ 0.        ,  0.        ,  1.        ,  2.        ],\n",
       "       [ 0.        ,  0.        ,  1.        ,  2.        ],\n",
       "       [ 0.        ,  1.        ,  1.        ,  2.        ],\n",
       "       [ 0.        ,  1.        ,  1.        ,  2.        ],\n",
       "       [ 0.        ,  1.        ,  1.        ,  2.        ],\n",
       "       [ 0.        ,  1.        ,  1.41421356,  2.        ],\n",
       "       [ 0.        ,  1.        ,  1.41421356,  2.        ],\n",
       "       [ 0.        ,  1.        ,  1.41421356,  2.        ],\n",
       "       [ 0.        ,  1.        ,  1.41421356,  2.        ],\n",
       "       [ 0.        ,  1.        ,  1.41421356,  2.        ],\n",
       "       [ 0.        ,  1.        ,  1.41421356,  2.        ],\n",
       "       [ 0.        ,  1.        ,  1.41421356,  2.23606798],\n",
       "       [ 0.        ,  1.        ,  1.41421356,  2.23606798],\n",
       "       [ 0.        ,  1.        ,  1.41421356,  2.23606798],\n",
       "       [ 0.        ,  1.        ,  1.41421356,  2.23606798],\n",
       "       [ 0.        ,  1.        ,  1.41421356,  2.23606798],\n",
       "       [ 0.        ,  1.        ,  1.41421356,  2.23606798],\n",
       "       [ 0.        ,  1.        ,  2.        ,  2.23606798],\n",
       "       [ 0.        ,  1.        ,  2.        ,  2.23606798],\n",
       "       [ 0.        ,  1.        ,  2.        ,  2.23606798],\n",
       "       [ 0.        ,  1.        ,  2.        ,  2.23606798],\n",
       "       [ 0.        ,  1.        ,  2.        ,  2.23606798],\n",
       "       [ 0.        ,  1.        ,  2.        ,  2.23606798],\n",
       "       [ 0.        ,  1.        ,  2.        ,  2.23606798],\n",
       "       [ 0.        ,  1.        ,  2.        ,  2.23606798],\n",
       "       [ 0.        ,  1.        ,  2.        ,  2.82842712],\n",
       "       [ 0.        ,  1.        ,  2.        ,  2.82842712],\n",
       "       [ 0.        ,  1.        ,  2.        ,  2.82842712],\n",
       "       [ 0.        ,  1.        ,  2.        ,  2.82842712],\n",
       "       [ 0.        ,  1.        ,  2.        ,  2.82842712],\n",
       "       [ 0.        ,  1.        ,  2.        ,  2.82842712],\n",
       "       [ 0.        ,  1.        ,  2.        ,  2.82842712],\n",
       "       [ 0.        ,  1.        ,  2.        ,  2.82842712],\n",
       "       [ 0.        ,  1.        ,  2.        ,  2.82842712],\n",
       "       [ 0.        ,  1.        ,  2.        ,  2.82842712],\n",
       "       [ 0.        ,  1.        ,  2.        ,  2.82842712],\n",
       "       [ 0.        ,  1.        ,  2.        ,  3.        ],\n",
       "       [ 0.        ,  1.        ,  2.        ,  3.        ],\n",
       "       [ 0.        ,  1.        ,  2.        ,  3.        ],\n",
       "       [ 0.        ,  1.        ,  2.        ,  3.        ],\n",
       "       [ 0.        ,  1.        ,  2.        ,  3.        ],\n",
       "       [ 0.        ,  1.        ,  2.        ,  3.        ],\n",
       "       [ 0.        ,  1.        ,  2.23606798,  3.        ],\n",
       "       [ 0.        ,  1.        ,  2.23606798,  3.        ],\n",
       "       [ 0.        ,  1.        ,  2.23606798,  3.        ],\n",
       "       [ 0.        ,  1.41421356,  2.23606798,  3.        ],\n",
       "       [ 0.        ,  1.41421356,  2.23606798,  3.16227766],\n",
       "       [ 0.        ,  1.41421356,  2.23606798,  3.16227766],\n",
       "       [ 0.        ,  1.41421356,  2.23606798,  3.16227766],\n",
       "       [ 0.        ,  1.41421356,  2.23606798,  3.16227766],\n",
       "       [ 0.        ,  1.41421356,  2.23606798,  3.16227766],\n",
       "       [ 0.        ,  1.41421356,  2.23606798,  3.16227766],\n",
       "       [ 0.        ,  1.41421356,  2.23606798,  3.16227766],\n",
       "       [ 0.        ,  1.41421356,  2.23606798,  3.16227766],\n",
       "       [ 0.        ,  1.41421356,  2.23606798,  3.16227766],\n",
       "       [ 0.        ,  1.41421356,  2.23606798,  3.16227766],\n",
       "       [ 0.        ,  1.41421356,  2.23606798,  3.16227766],\n",
       "       [ 0.        ,  1.41421356,  2.23606798,  3.16227766],\n",
       "       [ 0.        ,  1.41421356,  2.23606798,  3.16227766],\n",
       "       [ 0.        ,  1.41421356,  2.82842712,  3.60555128],\n",
       "       [ 0.        ,  1.41421356,  2.82842712,  3.60555128],\n",
       "       [ 0.        ,  1.41421356,  2.82842712,  3.60555128],\n",
       "       [ 0.        ,  1.41421356,  2.82842712,  3.60555128],\n",
       "       [ 0.        ,  1.41421356,  2.82842712,  3.60555128],\n",
       "       [ 0.        ,  1.41421356,  2.82842712,  3.60555128],\n",
       "       [ 0.        ,  1.41421356,  2.82842712,  3.60555128],\n",
       "       [ 0.        ,  1.41421356,  2.82842712,  3.60555128],\n",
       "       [ 0.        ,  1.41421356,  3.        ,  3.60555128],\n",
       "       [ 0.        ,  1.41421356,  3.        ,  3.60555128],\n",
       "       [ 0.        ,  1.41421356,  3.        ,  3.60555128],\n",
       "       [ 0.        ,  1.41421356,  3.        ,  3.60555128],\n",
       "       [ 0.        ,  1.41421356,  3.        ,  4.        ],\n",
       "       [ 0.        ,  2.        ,  3.        ,  4.        ],\n",
       "       [ 0.        ,  2.        ,  3.        ,  4.        ],\n",
       "       [ 0.        ,  2.        ,  3.        ,  4.        ],\n",
       "       [ 0.        ,  2.        ,  3.        ,  4.        ],\n",
       "       [ 0.        ,  2.        ,  3.        ,  4.        ],\n",
       "       [ 0.        ,  2.        ,  3.        ,  4.        ],\n",
       "       [ 0.        ,  2.        ,  3.        ,  4.12310563],\n",
       "       [ 0.        ,  2.        ,  3.        ,  4.12310563],\n",
       "       [ 0.        ,  2.        ,  3.        ,  4.12310563],\n",
       "       [ 0.        ,  2.        ,  3.16227766,  4.12310563],\n",
       "       [ 0.        ,  2.        ,  3.16227766,  4.12310563],\n",
       "       [ 0.        ,  2.        ,  3.16227766,  4.12310563],\n",
       "       [ 0.        ,  2.        ,  3.16227766,  4.12310563],\n",
       "       [ 0.        ,  2.        ,  3.16227766,  4.24264069],\n",
       "       [ 0.        ,  2.        ,  3.16227766,  4.24264069],\n",
       "       [ 0.        ,  2.        ,  3.16227766,  4.24264069],\n",
       "       [ 0.        ,  2.        ,  3.16227766,  4.47213595],\n",
       "       [ 0.        ,  2.        ,  3.16227766,  4.47213595],\n",
       "       [ 0.        ,  2.        ,  3.16227766,  4.47213595],\n",
       "       [ 0.        ,  2.        ,  3.16227766,  4.47213595],\n",
       "       [ 0.        ,  2.        ,  3.16227766,  5.        ],\n",
       "       [ 0.        ,  2.        ,  3.16227766,  5.        ],\n",
       "       [ 0.        ,  2.        ,  3.60555128,  5.        ],\n",
       "       [ 0.        ,  2.        ,  3.60555128,  5.        ],\n",
       "       [ 0.        ,  2.        ,  3.60555128,  5.        ],\n",
       "       [ 0.        ,  2.        ,  3.60555128,  5.        ],\n",
       "       [ 0.        ,  2.        ,  4.        ,  5.        ],\n",
       "       [ 0.        ,  2.        ,  4.        ,  5.        ],\n",
       "       [ 0.        ,  2.23606798,  4.        ,  5.        ],\n",
       "       [ 0.        ,  2.23606798,  4.        ,  5.        ],\n",
       "       [ 0.        ,  2.23606798,  4.12310563,  5.09901951],\n",
       "       [ 0.        ,  2.23606798,  4.12310563,  5.09901951],\n",
       "       [ 0.        ,  2.23606798,  4.12310563,  5.09901951],\n",
       "       [ 0.        ,  2.23606798,  4.12310563,  5.09901951],\n",
       "       [ 0.        ,  2.23606798,  4.12310563,  5.09901951],\n",
       "       [ 0.        ,  2.23606798,  4.12310563,  5.09901951],\n",
       "       [ 0.        ,  2.23606798,  4.24264069,  5.09901951],\n",
       "       [ 0.        ,  2.23606798,  4.24264069,  5.09901951],\n",
       "       [ 0.        ,  2.23606798,  4.24264069,  5.38516481],\n",
       "       [ 0.        ,  2.23606798,  4.47213595,  5.38516481],\n",
       "       [ 0.        ,  2.23606798,  4.47213595,  5.38516481],\n",
       "       [ 0.        ,  2.23606798,  5.        ,  5.38516481],\n",
       "       [ 0.        ,  2.23606798,  5.        ,  5.38516481],\n",
       "       [ 0.        ,  2.23606798,  5.        ,  5.65685425],\n",
       "       [ 0.        ,  2.23606798,  5.        ,  5.83095189],\n",
       "       [ 0.        ,  2.23606798,  5.        ,  5.83095189],\n",
       "       [ 0.        ,  2.23606798,  5.        ,  6.        ],\n",
       "       [ 0.        ,  2.23606798,  5.        ,  6.        ],\n",
       "       [ 0.        ,  2.23606798,  5.        ,  6.        ],\n",
       "       [ 0.        ,  2.23606798,  5.        ,  6.08276253],\n",
       "       [ 0.        ,  2.23606798,  5.        ,  6.08276253],\n",
       "       [ 0.        ,  2.82842712,  5.        ,  6.08276253],\n",
       "       [ 0.        ,  2.82842712,  5.        ,  6.08276253],\n",
       "       [ 0.        ,  2.82842712,  5.        ,  6.08276253],\n",
       "       [ 0.        ,  3.        ,  5.09901951,  6.08276253],\n",
       "       [ 0.        ,  3.        ,  5.09901951,  6.32455532],\n",
       "       [ 0.        ,  3.        ,  5.09901951,  6.32455532],\n",
       "       [ 0.        ,  3.        ,  5.09901951,  6.32455532],\n",
       "       [ 0.        ,  3.        ,  5.09901951,  6.32455532],\n",
       "       [ 0.        ,  3.        ,  5.09901951,  6.32455532],\n",
       "       [ 0.        ,  3.        ,  5.09901951,  6.32455532],\n",
       "       [ 0.        ,  3.16227766,  5.38516481,  6.40312424],\n",
       "       [ 0.        ,  3.16227766,  5.38516481,  6.40312424],\n",
       "       [ 0.        ,  3.16227766,  5.38516481,  6.40312424],\n",
       "       [ 0.        ,  3.16227766,  5.38516481,  6.70820393],\n",
       "       [ 0.        ,  3.16227766,  5.38516481,  7.07106781],\n",
       "       [ 0.        ,  3.16227766,  5.65685425,  7.07106781],\n",
       "       [ 0.        ,  3.16227766,  5.65685425,  7.07106781],\n",
       "       [ 0.        ,  3.16227766,  5.65685425,  7.07106781],\n",
       "       [ 0.        ,  3.16227766,  5.83095189,  7.07106781],\n",
       "       [ 0.        ,  3.16227766,  5.83095189,  7.07106781],\n",
       "       [ 0.        ,  3.60555128,  5.83095189,  7.21110255],\n",
       "       [ 0.        ,  3.60555128,  6.        ,  7.21110255],\n",
       "       [ 0.        ,  3.60555128,  6.        ,  7.28010989],\n",
       "       [ 0.        ,  3.60555128,  6.08276253,  7.28010989],\n",
       "       [ 0.        ,  4.        ,  6.08276253,  7.28010989],\n",
       "       [ 0.        ,  4.        ,  6.08276253,  7.28010989],\n",
       "       [ 0.        ,  4.12310563,  6.08276253,  8.        ],\n",
       "       [ 0.        ,  4.12310563,  6.08276253,  8.06225775],\n",
       "       [ 0.        ,  4.12310563,  6.08276253,  8.06225775],\n",
       "       [ 0.        ,  4.12310563,  6.08276253,  8.06225775],\n",
       "       [ 0.        ,  4.24264069,  6.08276253,  8.06225775],\n",
       "       [ 0.        ,  4.24264069,  6.08276253,  8.06225775],\n",
       "       [ 0.        ,  4.47213595,  6.08276253,  8.06225775],\n",
       "       [ 0.        ,  4.47213595,  6.32455532,  8.06225775],\n",
       "       [ 0.        ,  4.47213595,  6.32455532,  8.54400375],\n",
       "       [ 0.        ,  4.47213595,  6.32455532,  8.60232527],\n",
       "       [ 0.        ,  5.        ,  6.40312424,  8.60232527],\n",
       "       [ 0.        ,  5.        ,  6.40312424,  8.94427191],\n",
       "       [ 0.        ,  5.        ,  6.40312424,  9.        ],\n",
       "       [ 0.        ,  5.        ,  6.40312424,  9.05538514],\n",
       "       [ 0.        ,  5.        ,  6.40312424,  9.43398113],\n",
       "       [ 0.        ,  5.        ,  6.40312424,  9.43398113],\n",
       "       [ 0.        ,  5.09901951,  6.70820393,  9.43398113],\n",
       "       [ 0.        ,  5.09901951,  6.70820393,  9.48683298],\n",
       "       [ 0.        ,  5.09901951,  6.70820393,  9.8488578 ],\n",
       "       [ 0.        ,  5.09901951,  7.07106781,  9.89949494],\n",
       "       [ 0.        ,  5.09901951,  7.07106781, 10.        ],\n",
       "       [ 0.        ,  5.09901951,  7.07106781, 10.        ],\n",
       "       [ 0.        ,  5.09901951,  7.21110255, 10.19803903],\n",
       "       [ 0.        ,  5.38516481,  7.21110255, 10.29563014],\n",
       "       [ 0.        ,  5.38516481,  7.21110255, 10.81665383],\n",
       "       [ 0.        ,  5.38516481,  7.28010989, 11.        ],\n",
       "       [ 0.        ,  5.38516481,  7.61577311, 11.18033989],\n",
       "       [ 0.        ,  5.83095189,  8.06225775, 11.18033989],\n",
       "       [ 0.        ,  5.83095189,  8.94427191, 11.66190379],\n",
       "       [ 0.        ,  6.08276253,  9.05538514, 11.70469991],\n",
       "       [ 0.        ,  6.08276253,  9.21954446, 12.08304597],\n",
       "       [ 0.        ,  6.08276253, 10.29563014, 12.16552506],\n",
       "       [ 0.        ,  6.32455532, 11.        , 13.03840481],\n",
       "       [ 0.        ,  7.28010989, 12.        , 14.86606875],\n",
       "       [ 0.        ,  7.28010989, 13.03840481, 15.23154621],\n",
       "       [ 0.        ,  7.81024968, 13.41640786, 15.62049935],\n",
       "       [ 0.        ,  7.81024968, 13.45362405, 16.        ],\n",
       "       [ 0.        ,  8.60232527, 13.89244399, 16.4924225 ],\n",
       "       [ 0.        ,  9.05538514, 13.89244399, 16.55294536],\n",
       "       [ 0.        , 10.63014581, 14.2126704 , 17.02938637],\n",
       "       [ 0.        , 10.63014581, 14.86606875, 17.4642492 ],\n",
       "       [ 0.        , 11.66190379, 15.        , 21.40093456],\n",
       "       [ 0.        , 13.41640786, 15.13274595, 23.53720459],\n",
       "       [ 0.        , 14.2126704 , 17.11724277, 25.29822128],\n",
       "       [ 0.        , 14.86606875, 17.4642492 , 26.        ]])"
      ]
     },
     "execution_count": 34,
     "metadata": {},
     "output_type": "execute_result"
    }
   ],
   "source": [
    "dis = np.sort(dis,axis=0)\n",
    "dis"
   ]
  },
  {
   "cell_type": "code",
   "execution_count": 35,
   "metadata": {},
   "outputs": [
    {
     "data": {
      "text/plain": [
       "[<matplotlib.lines.Line2D at 0x19087e16130>]"
      ]
     },
     "execution_count": 35,
     "metadata": {},
     "output_type": "execute_result"
    },
    {
     "data": {
      "image/png": "[encoded data removed]",
      "text/plain": [
       "<Figure size 576x396 with 1 Axes>"
      ]
     },
     "metadata": {},
     "output_type": "display_data"
    }
   ],
   "source": [
    "dis = dis[:,1]\n",
    "plt.plot(dis)"
   ]
  },
  {
   "cell_type": "code",
   "execution_count": null,
   "metadata": {},
   "outputs": [],
   "source": []
  }
 ],
 "metadata": {
  "kernelspec": {
   "display_name": "Python 3.9.12 ('base')",
   "language": "python",
   "name": "python3"
  },
  "language_info": {
   "codemirror_mode": {
    "name": "ipython",
    "version": 3
   },
   "file_extension": ".py",
   "mimetype": "text/x-python",
   "name": "python",
   "nbconvert_exporter": "python",
   "pygments_lexer": "ipython3",
   "version": "3.9.12"
  },
  "orig_nbformat": 4,
  "vscode": {
   "interpreter": {
    "hash": "88279d2366fe020547cde40dd65aa0e3aa662a6ec1f3ca12d88834876c85e1a6"
   }
  }
 },
 "nbformat": 4,
 "nbformat_minor": 2
}
