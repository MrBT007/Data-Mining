{
 "cells": [
  {
   "cell_type": "code",
   "execution_count": 1,
   "id": "ed3599e0",
   "metadata": {},
   "outputs": [
    {
     "data": {
      "text/plain": [
       "'C:\\\\Users\\\\TUSHAR BHUT'"
      ]
     },
     "execution_count": 1,
     "metadata": {},
     "output_type": "execute_result"
    }
   ],
   "source": [
    "pwd"
   ]
  },
  {
   "cell_type": "code",
   "execution_count": 2,
   "id": "53ad3a25",
   "metadata": {},
   "outputs": [
    {
     "data": {
      "text/plain": [
       "'C:\\\\Users\\\\TUSHAR BHUT'"
      ]
     },
     "execution_count": 2,
     "metadata": {},
     "output_type": "execute_result"
    }
   ],
   "source": [
    "pwd"
   ]
  },
  {
   "cell_type": "code",
   "execution_count": 3,
   "id": "06b7ba32",
   "metadata": {},
   "outputs": [],
   "source": [
    "import sys"
   ]
  },
  {
   "cell_type": "code",
   "execution_count": 4,
   "id": "c4ae5db8",
   "metadata": {},
   "outputs": [
    {
     "data": {
      "text/plain": [
       "'C:\\\\Users\\\\TUSHAR BHUT'"
      ]
     },
     "execution_count": 4,
     "metadata": {},
     "output_type": "execute_result"
    }
   ],
   "source": [
    "pwd"
   ]
  },
  {
   "cell_type": "code",
   "execution_count": 7,
   "id": "f2ad9517",
   "metadata": {},
   "outputs": [],
   "source": [
    "os.chdir(\"E:\\My programs\")"
   ]
  },
  {
   "cell_type": "code",
   "execution_count": 6,
   "id": "2b8ae09b",
   "metadata": {},
   "outputs": [],
   "source": [
    "import os"
   ]
  },
  {
   "cell_type": "code",
   "execution_count": 8,
   "id": "6cbae394",
   "metadata": {},
   "outputs": [
    {
     "data": {
      "text/plain": [
       "'E:\\\\My programs'"
      ]
     },
     "execution_count": 8,
     "metadata": {},
     "output_type": "execute_result"
    }
   ],
   "source": [
    "pwd"
   ]
  },
  {
   "cell_type": "code",
   "execution_count": 9,
   "id": "db5259bc",
   "metadata": {},
   "outputs": [],
   "source": [
    "os.mkdir(\"Data mining\")"
   ]
  },
  {
   "cell_type": "code",
   "execution_count": 10,
   "id": "885e7e5d",
   "metadata": {},
   "outputs": [
    {
     "data": {
      "text/plain": [
       "'E:\\\\My programs'"
      ]
     },
     "execution_count": 10,
     "metadata": {},
     "output_type": "execute_result"
    }
   ],
   "source": [
    "pwd"
   ]
  },
  {
   "cell_type": "code",
   "execution_count": 11,
   "id": "f2986bd5",
   "metadata": {},
   "outputs": [],
   "source": [
    "os.chdir(\"E:\\My programs\\Data mining\")"
   ]
  },
  {
   "cell_type": "code",
   "execution_count": 12,
   "id": "60336336",
   "metadata": {},
   "outputs": [
    {
     "data": {
      "text/plain": [
       "'E:\\\\My programs\\\\Data mining'"
      ]
     },
     "execution_count": 12,
     "metadata": {},
     "output_type": "execute_result"
    }
   ],
   "source": [
    "pwd"
   ]
  },
  {
   "cell_type": "code",
   "execution_count": 18,
   "id": "9206d7a5",
   "metadata": {},
   "outputs": [
    {
     "name": "stdout",
     "output_type": "stream",
     "text": [
      "Overwriting datamining_prog1.py\n"
     ]
    }
   ],
   "source": [
    "%%writefile datamining_prog1.py\n",
    "a = 10\n",
    "b = 20\n",
    "print(\"sum = \",a+b)"
   ]
  },
  {
   "cell_type": "code",
   "execution_count": null,
   "id": "04cbadaf",
   "metadata": {},
   "outputs": [],
   "source": [
    "# %load datamining_prog1.py\n",
    "a = 10\n",
    "n = 20\n",
    "print(\"sum = \",a+b)\n"
   ]
  },
  {
   "cell_type": "code",
   "execution_count": 16,
   "id": "61f2689e",
   "metadata": {},
   "outputs": [
    {
     "data": {
      "text/plain": [
       "['C:\\\\Users\\\\TUSHAR BHUT',\n",
       " 'D:\\\\Anaconda\\\\python39.zip',\n",
       " 'D:\\\\Anaconda\\\\DLLs',\n",
       " 'D:\\\\Anaconda\\\\lib',\n",
       " 'D:\\\\Anaconda',\n",
       " '',\n",
       " 'C:\\\\Users\\\\TUSHAR BHUT\\\\AppData\\\\Roaming\\\\Python\\\\Python39\\\\site-packages',\n",
       " 'D:\\\\Anaconda\\\\lib\\\\site-packages',\n",
       " 'D:\\\\Anaconda\\\\lib\\\\site-packages\\\\win32',\n",
       " 'D:\\\\Anaconda\\\\lib\\\\site-packages\\\\win32\\\\lib',\n",
       " 'D:\\\\Anaconda\\\\lib\\\\site-packages\\\\Pythonwin']"
      ]
     },
     "execution_count": 16,
     "metadata": {},
     "output_type": "execute_result"
    }
   ],
   "source": [
    "sys.path"
   ]
  },
  {
   "cell_type": "code",
   "execution_count": 19,
   "id": "1c884dee",
   "metadata": {},
   "outputs": [
    {
     "name": "stdout",
     "output_type": "stream",
     "text": [
      "sum =  30\n"
     ]
    }
   ],
   "source": [
    "%run datamining_prog1.py"
   ]
  },
  {
   "cell_type": "code",
   "execution_count": 20,
   "id": "8183bc2d",
   "metadata": {},
   "outputs": [],
   "source": [
    "#virtual environment"
   ]
  },
  {
   "cell_type": "code",
   "execution_count": null,
   "id": "ae98f706",
   "metadata": {},
   "outputs": [],
   "source": [
    "conda create -n lab1"
   ]
  },
  {
   "cell_type": "code",
   "execution_count": null,
   "id": "cba3a84a",
   "metadata": {},
   "outputs": [],
   "source": [
    "exit()"
   ]
  },
  {
   "cell_type": "code",
   "execution_count": null,
   "id": "fe298256",
   "metadata": {},
   "outputs": [],
   "source": [
    "a=2,3,4\n",
    "type(a)"
   ]
  },
  {
   "cell_type": "code",
   "execution_count": null,
   "id": "9c672430",
   "metadata": {},
   "outputs": [],
   "source": [
    "a=2,3,4\n",
    "print(type(a))"
   ]
  },
  {
   "cell_type": "code",
   "execution_count": null,
   "id": "b52e0ba2",
   "metadata": {},
   "outputs": [],
   "source": [
    "pwd\n"
   ]
  }
 ],
 "metadata": {
  "kernelspec": {
   "display_name": "Python 3 (ipykernel)",
   "language": "python",
   "name": "python3"
  },
  "language_info": {
   "codemirror_mode": {
    "name": "ipython",
    "version": 3
   },
   "file_extension": ".py",
   "mimetype": "text/x-python",
   "name": "python",
   "nbconvert_exporter": "python",
   "pygments_lexer": "ipython3",
   "version": "3.9.12"
  }
 },
 "nbformat": 4,
 "nbformat_minor": 5
}
