{
 "cells": [
  {
   "cell_type": "code",
   "execution_count": 1,
   "id": "48e20b06",
   "metadata": {},
   "outputs": [],
   "source": [
    "import numpy as np"
   ]
  },
  {
   "cell_type": "code",
   "execution_count": 3,
   "id": "737a6e00",
   "metadata": {},
   "outputs": [],
   "source": [
    "arr1 = np.array([2,10,15,45,10])\n",
    "arr2= np.array([[2,10,15,45,10], [1,2,3,4,5],[6,5,7,78,2]])"
   ]
  },
  {
   "cell_type": "code",
   "execution_count": 4,
   "id": "1bf99440",
   "metadata": {},
   "outputs": [
    {
     "data": {
      "text/plain": [
       "array([ 2, 10, 15, 45, 10])"
      ]
     },
     "execution_count": 4,
     "metadata": {},
     "output_type": "execute_result"
    }
   ],
   "source": [
    "arr1"
   ]
  },
  {
   "cell_type": "code",
   "execution_count": 5,
   "id": "0bcd11d4",
   "metadata": {},
   "outputs": [
    {
     "data": {
      "text/plain": [
       "array([[ 2, 10, 15, 45, 10],\n",
       "       [ 1,  2,  3,  4,  5],\n",
       "       [ 6,  5,  7, 78,  2]])"
      ]
     },
     "execution_count": 5,
     "metadata": {},
     "output_type": "execute_result"
    }
   ],
   "source": [
    "arr2"
   ]
  },
  {
   "cell_type": "code",
   "execution_count": 7,
   "id": "28c2145a",
   "metadata": {},
   "outputs": [
    {
     "data": {
      "text/plain": [
       "array([15, 45])"
      ]
     },
     "execution_count": 7,
     "metadata": {},
     "output_type": "execute_result"
    }
   ],
   "source": [
    "arr1[2:4]"
   ]
  },
  {
   "cell_type": "code",
   "execution_count": 8,
   "id": "2871fc57",
   "metadata": {},
   "outputs": [
    {
     "data": {
      "text/plain": [
       "10"
      ]
     },
     "execution_count": 8,
     "metadata": {},
     "output_type": "execute_result"
    }
   ],
   "source": [
    "arr1[-1]"
   ]
  },
  {
   "cell_type": "code",
   "execution_count": 9,
   "id": "f63efe64",
   "metadata": {},
   "outputs": [
    {
     "data": {
      "text/plain": [
       "array([10])"
      ]
     },
     "execution_count": 9,
     "metadata": {},
     "output_type": "execute_result"
    }
   ],
   "source": [
    "arr1[-1:]"
   ]
  },
  {
   "cell_type": "code",
   "execution_count": 10,
   "id": "a7bf3252",
   "metadata": {},
   "outputs": [
    {
     "data": {
      "text/plain": [
       "array([[ 2, 10, 15, 45, 10],\n",
       "       [ 1,  2,  3,  4,  5],\n",
       "       [ 6,  5,  7, 78,  2]])"
      ]
     },
     "execution_count": 10,
     "metadata": {},
     "output_type": "execute_result"
    }
   ],
   "source": [
    "arr2[::]"
   ]
  },
  {
   "cell_type": "code",
   "execution_count": 11,
   "id": "b90505df",
   "metadata": {},
   "outputs": [
    {
     "data": {
      "text/plain": [
       "array([[ 1,  2,  3,  4,  5],\n",
       "       [ 6,  5,  7, 78,  2]])"
      ]
     },
     "execution_count": 11,
     "metadata": {},
     "output_type": "execute_result"
    }
   ],
   "source": [
    "arr2[1::]"
   ]
  },
  {
   "cell_type": "code",
   "execution_count": 12,
   "id": "9d00456f",
   "metadata": {},
   "outputs": [
    {
     "data": {
      "text/plain": [
       "array([3])"
      ]
     },
     "execution_count": 12,
     "metadata": {},
     "output_type": "execute_result"
    }
   ],
   "source": [
    "arr2[1:2,2]"
   ]
  },
  {
   "cell_type": "code",
   "execution_count": 13,
   "id": "2049b923",
   "metadata": {},
   "outputs": [
    {
     "data": {
      "text/plain": [
       "array([[3, 4, 5]])"
      ]
     },
     "execution_count": 13,
     "metadata": {},
     "output_type": "execute_result"
    }
   ],
   "source": [
    "arr2[1:2,2:]"
   ]
  },
  {
   "cell_type": "code",
   "execution_count": 14,
   "id": "84095270",
   "metadata": {},
   "outputs": [
    {
     "data": {
      "text/plain": [
       "array([ 2, 15, 10])"
      ]
     },
     "execution_count": 14,
     "metadata": {},
     "output_type": "execute_result"
    }
   ],
   "source": [
    "arr1[::2]"
   ]
  },
  {
   "cell_type": "code",
   "execution_count": 15,
   "id": "da859238",
   "metadata": {},
   "outputs": [
    {
     "data": {
      "text/plain": [
       "array([[ 2, 10, 15, 45, 10],\n",
       "       [ 6,  5,  7, 78,  2]])"
      ]
     },
     "execution_count": 15,
     "metadata": {},
     "output_type": "execute_result"
    }
   ],
   "source": [
    "arr2[::2]"
   ]
  },
  {
   "cell_type": "code",
   "execution_count": 16,
   "id": "f498ea71",
   "metadata": {},
   "outputs": [
    {
     "data": {
      "text/plain": [
       "array([[ 2, 15, 10],\n",
       "       [ 6,  7,  2]])"
      ]
     },
     "execution_count": 16,
     "metadata": {},
     "output_type": "execute_result"
    }
   ],
   "source": [
    "arr2[::2,::2]"
   ]
  },
  {
   "cell_type": "code",
   "execution_count": 17,
   "id": "4be960eb",
   "metadata": {},
   "outputs": [
    {
     "data": {
      "text/plain": [
       "array([[ 2, 15, 10],\n",
       "       [ 1,  3,  5],\n",
       "       [ 6,  7,  2]])"
      ]
     },
     "execution_count": 17,
     "metadata": {},
     "output_type": "execute_result"
    }
   ],
   "source": [
    "arr2[::,::2]"
   ]
  },
  {
   "cell_type": "code",
   "execution_count": 18,
   "id": "d7c1aa33",
   "metadata": {},
   "outputs": [
    {
     "data": {
      "text/plain": [
       "array([[ 2, 10, 15, 45, 10],\n",
       "       [ 1,  2,  3,  4,  5],\n",
       "       [ 6,  5,  7, 78,  2]])"
      ]
     },
     "execution_count": 18,
     "metadata": {},
     "output_type": "execute_result"
    }
   ],
   "source": [
    "arr2"
   ]
  },
  {
   "cell_type": "code",
   "execution_count": 20,
   "id": "913f34e1",
   "metadata": {},
   "outputs": [
    {
     "data": {
      "text/plain": [
       "array([[ 2, 78,  7,  5,  6],\n",
       "       [ 5,  4,  3,  2,  1],\n",
       "       [10, 45, 15, 10,  2]])"
      ]
     },
     "execution_count": 20,
     "metadata": {},
     "output_type": "execute_result"
    }
   ],
   "source": [
    "arr2[::-1,::-1]"
   ]
  },
  {
   "cell_type": "raw",
   "id": "145f2150",
   "metadata": {},
   "source": []
  },
  {
   "cell_type": "code",
   "execution_count": 24,
   "id": "0737bffe",
   "metadata": {},
   "outputs": [
    {
     "data": {
      "text/plain": [
       "array([[45, 15, 10,  2],\n",
       "       [ 4,  3,  2,  1],\n",
       "       [78,  7,  5,  6]])"
      ]
     },
     "execution_count": 24,
     "metadata": {},
     "output_type": "execute_result"
    }
   ],
   "source": [
    "arr2[::,3::-1]"
   ]
  },
  {
   "cell_type": "code",
   "execution_count": 22,
   "id": "b68acc1c",
   "metadata": {},
   "outputs": [
    {
     "data": {
      "text/plain": [
       "array([[10, 45, 15, 10,  2],\n",
       "       [ 5,  4,  3,  2,  1],\n",
       "       [ 2, 78,  7,  5,  6]])"
      ]
     },
     "execution_count": 22,
     "metadata": {},
     "output_type": "execute_result"
    }
   ],
   "source": [
    "arr2[::,::-1]"
   ]
  },
  {
   "cell_type": "code",
   "execution_count": 23,
   "id": "f186a27d",
   "metadata": {},
   "outputs": [
    {
     "data": {
      "text/plain": [
       "array([[ 2,  1],\n",
       "       [10,  2]])"
      ]
     },
     "execution_count": 23,
     "metadata": {},
     "output_type": "execute_result"
    }
   ],
   "source": [
    "arr2[1::-1,1::-1]"
   ]
  },
  {
   "cell_type": "code",
   "execution_count": 27,
   "id": "bfc8d513",
   "metadata": {},
   "outputs": [],
   "source": [
    "#access and update elements in array"
   ]
  },
  {
   "cell_type": "code",
   "execution_count": 29,
   "id": "bdde89fa",
   "metadata": {},
   "outputs": [
    {
     "name": "stdout",
     "output_type": "stream",
     "text": [
      "[[ 2 -1 -1 45 10]\n",
      " [ 1 -1 -1  4  5]\n",
      " [ 6  5  7 78  2]]\n"
     ]
    }
   ],
   "source": [
    "arr2[:2:,1:3:] = -1\n",
    "print(arr2)"
   ]
  },
  {
   "cell_type": "code",
   "execution_count": 73,
   "id": "589abf59",
   "metadata": {},
   "outputs": [
    {
     "data": {
      "text/plain": [
       "array([[ 2, 10, 15, 45, 10],\n",
       "       [ 1,  2,  3,  4,  5],\n",
       "       [ 6,  5,  7, 78,  2]])"
      ]
     },
     "execution_count": 73,
     "metadata": {},
     "output_type": "execute_result"
    }
   ],
   "source": [
    "arr2= np.array([[2,10,15,45,10], [1,2,3,4,5],[6,5,7,78,2]])\n",
    "arr2"
   ]
  },
  {
   "cell_type": "code",
   "execution_count": 74,
   "id": "7f59adde",
   "metadata": {},
   "outputs": [
    {
     "name": "stdout",
     "output_type": "stream",
     "text": [
      "[[ 2 10 15 45 10]\n",
      " [ 1  2  3  4  5]\n",
      " [ 6  5  7 78  2]]\n",
      "\n",
      "\n"
     ]
    },
    {
     "data": {
      "text/plain": [
       "array([[ 6,  5,  7, 78,  2]])"
      ]
     },
     "execution_count": 74,
     "metadata": {},
     "output_type": "execute_result"
    }
   ],
   "source": [
    "print(arr2)\n",
    "slice = arr2[2::,::]\n",
    "print(\"\\n\")\n",
    "slice"
   ]
  },
  {
   "cell_type": "code",
   "execution_count": 70,
   "id": "a80fd994",
   "metadata": {},
   "outputs": [],
   "source": [
    "# slice[0] = 10\n",
    "# slice"
   ]
  },
  {
   "cell_type": "code",
   "execution_count": 47,
   "id": "41a8282b",
   "metadata": {},
   "outputs": [
    {
     "data": {
      "text/plain": [
       "array([[ 2, 10, 15, 45, 10],\n",
       "       [ 1,  2,  3,  4,  5],\n",
       "       [10, 10, 10, 10, 10]])"
      ]
     },
     "execution_count": 47,
     "metadata": {},
     "output_type": "execute_result"
    }
   ],
   "source": [
    "arr2 # here the change made in slice affects in the original array  (because it takes refernce to the original one)"
   ]
  },
  {
   "cell_type": "code",
   "execution_count": 78,
   "id": "496ad6ff",
   "metadata": {},
   "outputs": [
    {
     "name": "stdout",
     "output_type": "stream",
     "text": [
      "1688937646384\n",
      "1688958965296\n"
     ]
    }
   ],
   "source": [
    "print(id(arr2[2::,::]))\n",
    "print(id(slice))"
   ]
  },
  {
   "cell_type": "code",
   "execution_count": 67,
   "id": "7ce98b27",
   "metadata": {},
   "outputs": [
    {
     "name": "stdout",
     "output_type": "stream",
     "text": [
      "1688802519632\n",
      "1688802519632\n"
     ]
    }
   ],
   "source": [
    "a=10\n",
    "b=a\n",
    "b=10\n",
    "print(id(a))\n",
    "print(id(b))"
   ]
  },
  {
   "cell_type": "code",
   "execution_count": 83,
   "id": "4cecd974",
   "metadata": {},
   "outputs": [
    {
     "name": "stdout",
     "output_type": "stream",
     "text": [
      "[[ 2 10 15 45 10]\n",
      " [ 1  2  3  4  5]\n",
      " [ 6  5  7 78  2]]\n",
      "\n",
      "\n",
      "[[ 2 10 15 45 10]\n",
      " [ 1  2  3  4  5]\n",
      " [ 6  5  7 78  2]]\n",
      "\n",
      "\n",
      "[[ 2 10 15 45 10]\n",
      " [ 1  2  3  4  5]\n",
      " [ 6  5  7 78  2]]\n",
      "\n",
      "\n",
      "1688937645232\n",
      "1688937644080\n"
     ]
    }
   ],
   "source": [
    "a= np.array([[2,10,15,45,10], [1,2,3,4,5],[6,5,7,78,2]])\n",
    "print(a)\n",
    "print('\\n')\n",
    "n = a[::].copy()\n",
    "print(a)\n",
    "print('\\n')\n",
    "print(n)\n",
    "print('\\n')\n",
    "print(id(a))\n",
    "print(id(n))"
   ]
  },
  {
   "cell_type": "code",
   "execution_count": 94,
   "id": "049a1036",
   "metadata": {},
   "outputs": [
    {
     "data": {
      "text/plain": [
       "array([1, 2, 3, 4, 5, 6, 7, 8, 9])"
      ]
     },
     "execution_count": 94,
     "metadata": {},
     "output_type": "execute_result"
    }
   ],
   "source": [
    "a = np.arange(1,10)\n",
    "a"
   ]
  },
  {
   "cell_type": "code",
   "execution_count": 103,
   "id": "4864a675",
   "metadata": {},
   "outputs": [
    {
     "name": "stdout",
     "output_type": "stream",
     "text": [
      "[[1 2 3]\n",
      " [4 5 6]\n",
      " [7 8 9]]\n"
     ]
    }
   ],
   "source": [
    "b = a.reshape(3,3).copy()\n",
    "print(b)"
   ]
  },
  {
   "cell_type": "code",
   "execution_count": 111,
   "id": "519bd6eb",
   "metadata": {},
   "outputs": [
    {
     "data": {
      "text/plain": [
       "array([1, 5, 9])"
      ]
     },
     "execution_count": 111,
     "metadata": {},
     "output_type": "execute_result"
    }
   ],
   "source": [
    "np.diagonal(b)"
   ]
  },
  {
   "cell_type": "code",
   "execution_count": 112,
   "id": "102231db",
   "metadata": {},
   "outputs": [],
   "source": [
    "#concatenation"
   ]
  },
  {
   "cell_type": "code",
   "execution_count": 119,
   "id": "d271b976",
   "metadata": {},
   "outputs": [
    {
     "name": "stdout",
     "output_type": "stream",
     "text": [
      "[[ 1  2  3]\n",
      " [ 4  5  6]\n",
      " [ 7  8  9]\n",
      " [10 11 12]]\n"
     ]
    }
   ],
   "source": [
    "arr1 = np.array([1,2,3,4,5,6]).reshape(2,3)\n",
    "arr2 = np.arange(7,13).reshape(2,3)\n",
    "\n",
    "b = np.concatenate([arr1,arr2])\n",
    "print(b)"
   ]
  },
  {
   "cell_type": "code",
   "execution_count": 128,
   "id": "bd05849a",
   "metadata": {},
   "outputs": [
    {
     "name": "stdout",
     "output_type": "stream",
     "text": [
      "[[15 15 18]\n",
      " [16 19 19]\n",
      " [17 10 11]\n",
      " [16 18 13]]\n",
      "[[11  7 10 14]\n",
      " [ 7  7 13 13]\n",
      " [ 6  6  6  5]]\n"
     ]
    }
   ],
   "source": [
    "arr1 = np.random.randint(10,20,size=(4,3))\n",
    "arr2 = np.random.randint(5,15,size=(3,4))\n",
    "print(arr1)\n",
    "print(arr2)"
   ]
  },
  {
   "cell_type": "code",
   "execution_count": 131,
   "id": "7a479360",
   "metadata": {},
   "outputs": [
    {
     "data": {
      "text/plain": [
       "array([[15, 15, 18, 11,  7, 10],\n",
       "       [16, 19, 19, 14,  7,  7],\n",
       "       [17, 10, 11, 13, 13,  6],\n",
       "       [16, 18, 13,  6,  6,  5]])"
      ]
     },
     "execution_count": 131,
     "metadata": {},
     "output_type": "execute_result"
    }
   ],
   "source": [
    "np.column_stack((arr1,arr2.reshape(4,-1)))  #if you dont know either row or column then you can use -1"
   ]
  },
  {
   "cell_type": "code",
   "execution_count": null,
   "id": "ce878268",
   "metadata": {},
   "outputs": [],
   "source": []
  }
 ],
 "metadata": {
  "kernelspec": {
   "display_name": "Python 3 (ipykernel)",
   "language": "python",
   "name": "python3"
  },
  "language_info": {
   "codemirror_mode": {
    "name": "ipython",
    "version": 3
   },
   "file_extension": ".py",
   "mimetype": "text/x-python",
   "name": "python",
   "nbconvert_exporter": "python",
   "pygments_lexer": "ipython3",
   "version": "3.9.12"
  }
 },
 "nbformat": 4,
 "nbformat_minor": 5
}
