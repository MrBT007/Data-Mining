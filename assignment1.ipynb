{
 "cells": [
  {
   "cell_type": "code",
   "execution_count": 1,
   "metadata": {},
   "outputs": [],
   "source": [
    "import numpy as np\n",
    "import pandas as pd"
   ]
  },
  {
   "cell_type": "code",
   "execution_count": 3,
   "metadata": {},
   "outputs": [
    {
     "name": "stdout",
     "output_type": "stream",
     "text": [
      "['1' '2' '3' '4' '5' '6' '7' '8' '9' '0']\n"
     ]
    }
   ],
   "source": [
    "#Q1 : WAP to take 10 inputs from the user as comma separated and stored into a 5*2 matrix\n",
    "\n",
    "ip = input(\"Enter Number with ',' separated : \")\n",
    "ip = np.array(ip.split(','))\n",
    "ip.reshape(5,2)\n",
    "print(ip)\n"
   ]
  },
  {
   "cell_type": "code",
   "execution_count": 15,
   "metadata": {},
   "outputs": [
    {
     "name": "stdout",
     "output_type": "stream",
     "text": [
      "[[3 5 9 0 5]\n",
      " [0 4 1 4 8]\n",
      " [5 5 6 9 5]\n",
      " [0 0 5 0 7]]\n",
      "After reversing elements of 3rd row :\n",
      "[[3 5 9 0 5]\n",
      " [0 4 1 4 8]\n",
      " [5 9 6 5 5]\n",
      " [0 0 5 0 7]]\n"
     ]
    }
   ],
   "source": [
    "#Q2 : WAP to create a 4*5 matrix and reverse the elements of 3rd row only.\n",
    "\n",
    "arr = np.array(np.random.randint(0,10,(4,5)))\n",
    "print(arr)\n",
    "print(\"After reversing elements of 3rd row :\")\n",
    "arr[2,:] = arr[2,::-1]\n",
    "print(arr)"
   ]
  },
  {
   "cell_type": "code",
   "execution_count": 17,
   "metadata": {},
   "outputs": [
    {
     "name": "stdout",
     "output_type": "stream",
     "text": [
      "[[8 4 5 3 7]\n",
      " [1 9 6 8 2]\n",
      " [8 6 5 6 2]\n",
      " [9 9 2 3 4]]\n",
      "After reversing elements of 2nd column :\n",
      "[[8 9 5 3 7]\n",
      " [1 6 6 8 2]\n",
      " [8 9 5 6 2]\n",
      " [9 4 2 3 4]]\n"
     ]
    }
   ],
   "source": [
    "#Q3 : WAP to create a 4*5 matrix and reverse the elements of 2rd column only\n",
    "\n",
    "arr = np.array(np.random.randint(0,10,(4,5)))\n",
    "print(arr)\n",
    "print(\"After reversing elements of 2nd column :\")\n",
    "arr[:,1] = arr[::-1,1]\n",
    "print(arr)"
   ]
  },
  {
   "cell_type": "code",
   "execution_count": 52,
   "metadata": {},
   "outputs": [
    {
     "name": "stdout",
     "output_type": "stream",
     "text": [
      "[3 1 3 3 3 5 3 1 6 3]\n",
      "[[5 6 6]\n",
      " [5 7 6]\n",
      " [6 6 6]]\n"
     ]
    },
    {
     "data": {
      "text/plain": [
       "array([False, False, False, False, False,  True, False, False,  True,\n",
       "       False])"
      ]
     },
     "execution_count": 52,
     "metadata": {},
     "output_type": "execute_result"
    }
   ],
   "source": [
    "#Q4 : Write a NumPy program to test whether each element of a 1-D array is also present in a second array\n",
    "\n",
    "arr1 = np.array(np.random.randint(1,7,10))\n",
    "arr2 = np.array(np.random.randint(5,8,(3,3)))\n",
    "print(arr1)\n",
    "print(arr2)\n",
    "np.isin(arr1,arr2)"
   ]
  },
  {
   "cell_type": "code",
   "execution_count": 19,
   "metadata": {},
   "outputs": [
    {
     "name": "stdout",
     "output_type": "stream",
     "text": [
      "[1 2 3 4 5 6]\n"
     ]
    }
   ],
   "source": [
    "#Q5 : Write a NumPy program to find common values between two arrays\n",
    "\n",
    "arr1 = np.array([1,5,2,3,6,4])\n",
    "arr2 = np.array([10,5,3,2,7,6,9,1,4])\n",
    "print(np.intersect1d(arr1,arr2))"
   ]
  },
  {
   "cell_type": "code",
   "execution_count": 68,
   "metadata": {},
   "outputs": [
    {
     "name": "stdout",
     "output_type": "stream",
     "text": [
      "[4 4 4 2 4 4 5 2 5 3]\n",
      "[7 5 7 5 2 3 6 3 5 4]\n",
      "[7 7 6]\n"
     ]
    }
   ],
   "source": [
    "#Q6 : Take two 1-D array and make a new 1D array where all elements are greater than 5.\n",
    "\n",
    "arr1 = np.array(np.random.randint(1,7,10))\n",
    "arr2 = np.array(np.random.randint(2,8,10))\n",
    "print(arr1)\n",
    "print(arr2)\n",
    "newArr = np.concatenate([arr1,arr2])\n",
    "newArr= newArr[newArr>5]\n",
    "print(newArr)\n"
   ]
  },
  {
   "cell_type": "code",
   "execution_count": 44,
   "metadata": {},
   "outputs": [
    {
     "name": "stdout",
     "output_type": "stream",
     "text": [
      "[-10.  -8.   4.   3.   2.   1.]\n"
     ]
    }
   ],
   "source": [
    "#Q7 : You are given a space separated list of numbers. Your task is to print a reversed NumPy array with the element type float.\n",
    "\n",
    "ip = input(\"Enter numbers with ',' separated : \")\n",
    "ip = np.array(ip.split(','))\n",
    "ip[:] = ip[::-1]\n",
    "ip = ip.astype('float64')\n",
    "print(ip)"
   ]
  },
  {
   "cell_type": "code",
   "execution_count": 49,
   "metadata": {},
   "outputs": [
    {
     "name": "stdout",
     "output_type": "stream",
     "text": [
      "[[[1 2]]\n",
      "\n",
      " [[1 2]]\n",
      "\n",
      " [[1 2]]\n",
      "\n",
      " [[1 2]]\n",
      "\n",
      " [[3 4]]\n",
      "\n",
      " [[3 4]]\n",
      "\n",
      " [[3 4]]]\n"
     ]
    }
   ],
   "source": [
    "#Q8 \n",
    "\n",
    "nmp = input(\"NMP :\").split()\n",
    "n = int(nmp[0])\n",
    "m = int(nmp[1])\n",
    "p = int(nmp[2])\n",
    "ans = []\n",
    "for i in range(n):\n",
    "    temp = []\n",
    "    temp.append(input().split())\n",
    "    ans.append(temp)\n",
    "for i in range(m):\n",
    "    temp = []\n",
    "    temp.append(input().split())\n",
    "    ans.append(temp)\n",
    "\n",
    "ans = np.array(ans)\n",
    "ans = ans.astype('int')\n",
    "print(ans)"
   ]
  },
  {
   "cell_type": "code",
   "execution_count": null,
   "metadata": {},
   "outputs": [],
   "source": []
  }
 ],
 "metadata": {
  "kernelspec": {
   "display_name": "Python 3.9.12 ('base')",
   "language": "python",
   "name": "python3"
  },
  "language_info": {
   "codemirror_mode": {
    "name": "ipython",
    "version": 3
   },
   "file_extension": ".py",
   "mimetype": "text/x-python",
   "name": "python",
   "nbconvert_exporter": "python",
   "pygments_lexer": "ipython3",
   "version": "3.9.12"
  },
  "orig_nbformat": 4,
  "vscode": {
   "interpreter": {
    "hash": "88279d2366fe020547cde40dd65aa0e3aa662a6ec1f3ca12d88834876c85e1a6"
   }
  }
 },
 "nbformat": 4,
 "nbformat_minor": 2
}
